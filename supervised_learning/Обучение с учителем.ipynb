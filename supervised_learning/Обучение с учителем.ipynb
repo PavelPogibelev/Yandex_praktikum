{
 "cells": [
  {
   "cell_type": "markdown",
   "metadata": {},
   "source": [
    "# Проектная работа по теме \"Обучение с учителем\"\n",
    "## На основе данных о поведении клиентов, нужно спрогнозировать, уйдёт клиент из банка в ближайшее время или нет."
   ]
  },
  {
   "cell_type": "markdown",
   "metadata": {},
   "source": [
    "#### /datasets/Churn.csv - данные о поведении клиентов\n",
    "**Признаки**\n",
    "\n",
    "    RowNumber — индекс строки в данных\n",
    "    CustomerId — уникальный идентификатор клиента\n",
    "    Surname — фамилия\n",
    "    CreditScore — кредитный рейтинг\n",
    "    Geography — страна проживания\n",
    "    Gender — пол\n",
    "    Age — возраст\n",
    "    Tenure — количество недвижимости у клиента\n",
    "    Balance — баланс на счёте\n",
    "    NumOfProducts — количество продуктов банка, используемых клиентом\n",
    "    HasCrCard — наличие кредитной карты\n",
    "    IsActiveMember — активность клиента\n",
    "    EstimatedSalary — предполагаемая зарплата\n",
    "\n",
    "**Целевой признак**\n",
    "\n",
    "    Exited — факт ухода клиента"
   ]
  },
  {
   "cell_type": "markdown",
   "metadata": {},
   "source": [
    "### Оглавление\n",
    "1. Загрузка данных и библиотек\n",
    "2. [Подготовка данных](#1)\n",
    "3. [Проверка различных моделей. Несбалансированные классы](#2)\n",
    "4. [Проверка различных моделей. Сбалансированные классы](#3)\n",
    "5. [Общий вывод](#4)"
   ]
  },
  {
   "cell_type": "markdown",
   "metadata": {},
   "source": [
    "# Загрузка данных и библиотек"
   ]
  },
  {
   "cell_type": "code",
   "execution_count": 1,
   "metadata": {},
   "outputs": [],
   "source": [
    "import pandas as pd\n",
    "from sklearn.model_selection import train_test_split\n",
    "from sklearn.ensemble import RandomForestClassifier\n",
    "from sklearn.tree import DecisionTreeClassifier\n",
    "from catboost import CatBoostClassifier\n",
    "from sklearn.metrics import f1_score\n",
    "from sklearn.utils import shuffle\n",
    "from sklearn.metrics import roc_curve\n",
    "from sklearn.metrics import roc_auc_score\n",
    "import matplotlib.pyplot as plt\n",
    "from sklearn.preprocessing import StandardScaler "
   ]
  },
  {
   "cell_type": "code",
   "execution_count": 2,
   "metadata": {},
   "outputs": [],
   "source": [
    "df = pd.read_csv('/datasets/Churn.csv')"
   ]
  },
  {
   "cell_type": "code",
   "execution_count": 3,
   "metadata": {},
   "outputs": [
    {
     "data": {
      "text/html": [
       "<div>\n",
       "<style scoped>\n",
       "    .dataframe tbody tr th:only-of-type {\n",
       "        vertical-align: middle;\n",
       "    }\n",
       "\n",
       "    .dataframe tbody tr th {\n",
       "        vertical-align: top;\n",
       "    }\n",
       "\n",
       "    .dataframe thead th {\n",
       "        text-align: right;\n",
       "    }\n",
       "</style>\n",
       "<table border=\"1\" class=\"dataframe\">\n",
       "  <thead>\n",
       "    <tr style=\"text-align: right;\">\n",
       "      <th></th>\n",
       "      <th>RowNumber</th>\n",
       "      <th>CustomerId</th>\n",
       "      <th>Surname</th>\n",
       "      <th>CreditScore</th>\n",
       "      <th>Geography</th>\n",
       "      <th>Gender</th>\n",
       "      <th>Age</th>\n",
       "      <th>Tenure</th>\n",
       "      <th>Balance</th>\n",
       "      <th>NumOfProducts</th>\n",
       "      <th>HasCrCard</th>\n",
       "      <th>IsActiveMember</th>\n",
       "      <th>EstimatedSalary</th>\n",
       "      <th>Exited</th>\n",
       "    </tr>\n",
       "  </thead>\n",
       "  <tbody>\n",
       "    <tr>\n",
       "      <td>0</td>\n",
       "      <td>1</td>\n",
       "      <td>15634602</td>\n",
       "      <td>Hargrave</td>\n",
       "      <td>619</td>\n",
       "      <td>France</td>\n",
       "      <td>Female</td>\n",
       "      <td>42</td>\n",
       "      <td>2.0</td>\n",
       "      <td>0.00</td>\n",
       "      <td>1</td>\n",
       "      <td>1</td>\n",
       "      <td>1</td>\n",
       "      <td>101348.88</td>\n",
       "      <td>1</td>\n",
       "    </tr>\n",
       "    <tr>\n",
       "      <td>1</td>\n",
       "      <td>2</td>\n",
       "      <td>15647311</td>\n",
       "      <td>Hill</td>\n",
       "      <td>608</td>\n",
       "      <td>Spain</td>\n",
       "      <td>Female</td>\n",
       "      <td>41</td>\n",
       "      <td>1.0</td>\n",
       "      <td>83807.86</td>\n",
       "      <td>1</td>\n",
       "      <td>0</td>\n",
       "      <td>1</td>\n",
       "      <td>112542.58</td>\n",
       "      <td>0</td>\n",
       "    </tr>\n",
       "    <tr>\n",
       "      <td>2</td>\n",
       "      <td>3</td>\n",
       "      <td>15619304</td>\n",
       "      <td>Onio</td>\n",
       "      <td>502</td>\n",
       "      <td>France</td>\n",
       "      <td>Female</td>\n",
       "      <td>42</td>\n",
       "      <td>8.0</td>\n",
       "      <td>159660.80</td>\n",
       "      <td>3</td>\n",
       "      <td>1</td>\n",
       "      <td>0</td>\n",
       "      <td>113931.57</td>\n",
       "      <td>1</td>\n",
       "    </tr>\n",
       "    <tr>\n",
       "      <td>3</td>\n",
       "      <td>4</td>\n",
       "      <td>15701354</td>\n",
       "      <td>Boni</td>\n",
       "      <td>699</td>\n",
       "      <td>France</td>\n",
       "      <td>Female</td>\n",
       "      <td>39</td>\n",
       "      <td>1.0</td>\n",
       "      <td>0.00</td>\n",
       "      <td>2</td>\n",
       "      <td>0</td>\n",
       "      <td>0</td>\n",
       "      <td>93826.63</td>\n",
       "      <td>0</td>\n",
       "    </tr>\n",
       "    <tr>\n",
       "      <td>4</td>\n",
       "      <td>5</td>\n",
       "      <td>15737888</td>\n",
       "      <td>Mitchell</td>\n",
       "      <td>850</td>\n",
       "      <td>Spain</td>\n",
       "      <td>Female</td>\n",
       "      <td>43</td>\n",
       "      <td>2.0</td>\n",
       "      <td>125510.82</td>\n",
       "      <td>1</td>\n",
       "      <td>1</td>\n",
       "      <td>1</td>\n",
       "      <td>79084.10</td>\n",
       "      <td>0</td>\n",
       "    </tr>\n",
       "  </tbody>\n",
       "</table>\n",
       "</div>"
      ],
      "text/plain": [
       "   RowNumber  CustomerId   Surname  CreditScore Geography  Gender  Age  \\\n",
       "0          1    15634602  Hargrave          619    France  Female   42   \n",
       "1          2    15647311      Hill          608     Spain  Female   41   \n",
       "2          3    15619304      Onio          502    France  Female   42   \n",
       "3          4    15701354      Boni          699    France  Female   39   \n",
       "4          5    15737888  Mitchell          850     Spain  Female   43   \n",
       "\n",
       "   Tenure    Balance  NumOfProducts  HasCrCard  IsActiveMember  \\\n",
       "0     2.0       0.00              1          1               1   \n",
       "1     1.0   83807.86              1          0               1   \n",
       "2     8.0  159660.80              3          1               0   \n",
       "3     1.0       0.00              2          0               0   \n",
       "4     2.0  125510.82              1          1               1   \n",
       "\n",
       "   EstimatedSalary  Exited  \n",
       "0        101348.88       1  \n",
       "1        112542.58       0  \n",
       "2        113931.57       1  \n",
       "3         93826.63       0  \n",
       "4         79084.10       0  "
      ]
     },
     "execution_count": 3,
     "metadata": {},
     "output_type": "execute_result"
    }
   ],
   "source": [
    "df.head()"
   ]
  },
  {
   "cell_type": "code",
   "execution_count": 4,
   "metadata": {},
   "outputs": [
    {
     "name": "stdout",
     "output_type": "stream",
     "text": [
      "<class 'pandas.core.frame.DataFrame'>\n",
      "RangeIndex: 10000 entries, 0 to 9999\n",
      "Data columns (total 14 columns):\n",
      "RowNumber          10000 non-null int64\n",
      "CustomerId         10000 non-null int64\n",
      "Surname            10000 non-null object\n",
      "CreditScore        10000 non-null int64\n",
      "Geography          10000 non-null object\n",
      "Gender             10000 non-null object\n",
      "Age                10000 non-null int64\n",
      "Tenure             9091 non-null float64\n",
      "Balance            10000 non-null float64\n",
      "NumOfProducts      10000 non-null int64\n",
      "HasCrCard          10000 non-null int64\n",
      "IsActiveMember     10000 non-null int64\n",
      "EstimatedSalary    10000 non-null float64\n",
      "Exited             10000 non-null int64\n",
      "dtypes: float64(3), int64(8), object(3)\n",
      "memory usage: 1.1+ MB\n"
     ]
    }
   ],
   "source": [
    "df.info()"
   ]
  },
  {
   "cell_type": "markdown",
   "metadata": {},
   "source": [
    "#### Вывод\n",
    "В столбце Tenure имеются пропуски "
   ]
  },
  {
   "cell_type": "markdown",
   "metadata": {},
   "source": [
    "# Подготовка данных <a id=1></a>"
   ]
  },
  {
   "cell_type": "markdown",
   "metadata": {},
   "source": [
    "Проверим, есть ли закономерности в пропусках стобца Tenure"
   ]
  },
  {
   "cell_type": "code",
   "execution_count": 5,
   "metadata": {},
   "outputs": [
    {
     "data": {
      "text/plain": [
       "0    0.79868\n",
       "1    0.20132\n",
       "Name: Exited, dtype: float64"
      ]
     },
     "execution_count": 5,
     "metadata": {},
     "output_type": "execute_result"
    }
   ],
   "source": [
    "df[df['Tenure'].isna()]['Exited'].value_counts(normalize=True)"
   ]
  },
  {
   "cell_type": "code",
   "execution_count": 6,
   "metadata": {},
   "outputs": [],
   "source": [
    "df['Tenure'].fillna(999, inplace=True)"
   ]
  },
  {
   "cell_type": "code",
   "execution_count": 7,
   "metadata": {},
   "outputs": [
    {
     "data": {
      "text/plain": [
       "0    0.7963\n",
       "1    0.2037\n",
       "Name: Exited, dtype: float64"
      ]
     },
     "execution_count": 7,
     "metadata": {},
     "output_type": "execute_result"
    }
   ],
   "source": [
    "df['Exited'].value_counts(normalize=True)"
   ]
  },
  {
   "cell_type": "code",
   "execution_count": 8,
   "metadata": {},
   "outputs": [
    {
     "data": {
      "text/plain": [
       "1.0      952\n",
       "2.0      950\n",
       "8.0      933\n",
       "3.0      928\n",
       "5.0      927\n",
       "7.0      925\n",
       "999.0    909\n",
       "4.0      885\n",
       "9.0      882\n",
       "6.0      881\n",
       "10.0     446\n",
       "0.0      382\n",
       "Name: Tenure, dtype: int64"
      ]
     },
     "execution_count": 8,
     "metadata": {},
     "output_type": "execute_result"
    }
   ],
   "source": [
    "df['Tenure'].value_counts()"
   ]
  },
  {
   "cell_type": "code",
   "execution_count": 9,
   "metadata": {},
   "outputs": [
    {
     "data": {
      "text/plain": [
       "Tenure\n",
       "0.0      80135.307277\n",
       "1.0      77365.221712\n",
       "2.0      76502.413053\n",
       "3.0      78105.560356\n",
       "4.0      74133.600373\n",
       "5.0      76138.007217\n",
       "6.0      74970.085698\n",
       "7.0      75915.378086\n",
       "8.0      77994.797685\n",
       "9.0      77325.410351\n",
       "10.0     73580.495964\n",
       "999.0    76117.341474\n",
       "Name: Balance, dtype: float64"
      ]
     },
     "execution_count": 9,
     "metadata": {},
     "output_type": "execute_result"
    }
   ],
   "source": [
    "df.groupby('Tenure')['Balance'].mean()"
   ]
  },
  {
   "cell_type": "code",
   "execution_count": 10,
   "metadata": {},
   "outputs": [
    {
     "data": {
      "text/plain": [
       "Tenure\n",
       "0.0       99565.395157\n",
       "1.0      100635.368718\n",
       "2.0       99120.730168\n",
       "3.0       97351.648168\n",
       "4.0      100041.330836\n",
       "5.0      101239.472233\n",
       "6.0      100151.566924\n",
       "7.0      101842.455362\n",
       "8.0      100611.163290\n",
       "9.0       99592.441995\n",
       "10.0     102841.772040\n",
       "999.0     99180.389373\n",
       "Name: EstimatedSalary, dtype: float64"
      ]
     },
     "execution_count": 10,
     "metadata": {},
     "output_type": "execute_result"
    }
   ],
   "source": [
    "df.groupby('Tenure')['EstimatedSalary'].mean()"
   ]
  },
  {
   "cell_type": "markdown",
   "metadata": {},
   "source": [
    "Обнаружено малое количество нулевых значений, возможно пропуски соответсвуют значению 0"
   ]
  },
  {
   "cell_type": "code",
   "execution_count": 11,
   "metadata": {},
   "outputs": [],
   "source": [
    "df['Tenure'].replace(999, 0, inplace=True)"
   ]
  },
  {
   "cell_type": "markdown",
   "metadata": {},
   "source": [
    "Уберем столбцы которые не будем использовать в исследовании. Уникальные номера и фамилии бесполезны для создания модели"
   ]
  },
  {
   "cell_type": "code",
   "execution_count": 12,
   "metadata": {},
   "outputs": [],
   "source": [
    "df = df.drop(['RowNumber', 'CustomerId', 'Surname'], axis=1)"
   ]
  },
  {
   "cell_type": "markdown",
   "metadata": {},
   "source": [
    "Преобразуем категоральные признаки в численные используя OHE"
   ]
  },
  {
   "cell_type": "code",
   "execution_count": 13,
   "metadata": {},
   "outputs": [],
   "source": [
    "df = pd.get_dummies(df, drop_first=True)"
   ]
  },
  {
   "cell_type": "markdown",
   "metadata": {},
   "source": [
    "Обределяем признаки и целевой признак"
   ]
  },
  {
   "cell_type": "code",
   "execution_count": 14,
   "metadata": {},
   "outputs": [],
   "source": [
    "X = df.drop('Exited', axis=1)"
   ]
  },
  {
   "cell_type": "code",
   "execution_count": 15,
   "metadata": {},
   "outputs": [],
   "source": [
    "y = df['Exited']"
   ]
  },
  {
   "cell_type": "markdown",
   "metadata": {},
   "source": [
    "Разбиваем на тренировочную, валидационную и тестовую выборки в соотношении 3/1/1 (train/val/test)"
   ]
  },
  {
   "cell_type": "code",
   "execution_count": 16,
   "metadata": {},
   "outputs": [],
   "source": [
    "X_train, X_test, y_train, y_test = train_test_split(X, y, test_size=0.2, random_state=42, stratify=y)"
   ]
  },
  {
   "cell_type": "code",
   "execution_count": 17,
   "metadata": {},
   "outputs": [],
   "source": [
    "X_train, X_val, y_train, y_val = train_test_split(X_train, y_train, test_size=0.25, random_state=42, stratify=y_train)"
   ]
  },
  {
   "cell_type": "markdown",
   "metadata": {},
   "source": [
    "Нормализуем числовые признаки"
   ]
  },
  {
   "cell_type": "code",
   "execution_count": null,
   "metadata": {},
<<<<<<< HEAD
   "outputs": [],
=======
   "outputs": []
    }
   ],
>>>>>>> 3e0faaf7b24b64104b0c4cbec3bb1655da48a783
   "source": [
    "numeric = ['CreditScore' ,'Age', 'Tenure', 'Balance', 'NumOfProducts', 'EstimatedSalary']\n",
    "\n",
    "scaler = StandardScaler()\n",
    "scaler.fit(X_train[numeric])\n",
    "\n",
    "X_train[numeric] = scaler.transform(X_train[numeric])\n",
    "X_val[numeric] = scaler.transform(X_val[numeric])\n",
    "X_test[numeric] = scaler.transform(X_test[numeric])\n"
   ]
  },
  {
   "cell_type": "markdown",
   "metadata": {},
   "source": [
    "Сбалансируем классы с помощью увеличения и уменьшения классов в выборках"
   ]
  },
  {
   "cell_type": "code",
   "execution_count": 19,
   "metadata": {},
   "outputs": [],
   "source": [
    "X_0 = X_train[y_train == 0]\n",
    "X_1 = X_train[y_train == 1]\n",
    "y_0 = y_train[y_train == 0]\n",
    "y_1 = y_train[y_train == 1]\n",
    "\n",
    "X_upsampled = pd.concat([X_0] + [X_1] * 4)\n",
    "y_upsampled = pd.concat([y_0] + [y_1] * 4)\n",
    "X_upsampled, y_upsampled = shuffle(X_upsampled, y_upsampled, random_state=42)\n",
    "\n",
    "X_downsampled = pd.concat([X_0.sample(frac=0.25, random_state=42)] + [X_1])\n",
    "y_downsampled = pd.concat([y_0.sample(frac=0.25, random_state=42)] + [y_1])\n",
    "X_downsampled, y_downsampled = shuffle(X_downsampled, y_downsampled, random_state=42)"
   ]
  },
  {
   "cell_type": "markdown",
   "metadata": {},
   "source": [
    "## Проверка различных моделей <a id=2></a>"
   ]
  },
  {
   "cell_type": "markdown",
   "metadata": {},
   "source": [
    "## Несбалансированные классы"
   ]
  },
  {
   "cell_type": "markdown",
   "metadata": {},
   "source": [
    "dataframe для хранения метрик моделей"
   ]
  },
  {
   "cell_type": "code",
   "execution_count": 20,
   "metadata": {},
   "outputs": [],
   "source": [
    "total = pd.DataFrame(index=['Decision_Tree', 'Random_Forest', 'Catboost'], \n",
    "                     columns=['unbalanced', 'class_weight', 'upsampled', 'downsampled', 'ROC_AUC', 'ROC_AUC_cw', 'ROC_AUC_up', 'ROC_AUC_dwn'])"
   ]
  },
  {
   "cell_type": "markdown",
   "metadata": {},
   "source": [
    "Функция для построения ROC кривой и вывода ROC_AUC"
   ]
  },
  {
   "cell_type": "code",
   "execution_count": 21,
   "metadata": {},
   "outputs": [],
   "source": [
    "def roc_plot(model):\n",
    "    fpr,tpr,_ = roc_curve(y_val, model.predict_proba(X_val)[:, 1])\n",
    "    plt.figure()\n",
    "    plt.plot(fpr, tpr)\n",
    "    plt.plot([0, 1], [0, 1], linestyle='--')\n",
    "    plt.xlim(0,1)\n",
    "    plt.ylim(0,1)\n",
    "    plt.xlabel(\"False Positive Rate\")\n",
    "    plt.ylabel(\"True Positive Rate\")\n",
    "    plt.title(\"ROC-кривая\")\n",
    "    plt.show()\n",
    "    print('ROC_AUC =', roc_auc_score(y_val, model.predict_proba(X_val)[:, 1]))"
   ]
  },
  {
   "cell_type": "markdown",
   "metadata": {},
   "source": [
    "### Посчитаем метрки f1 и ROC_AUC для 3 моделей Decision_Tree, Random_Forest, Catboost. Баланс классов оставим без изменений"
   ]
  },
  {
   "cell_type": "markdown",
   "metadata": {},
   "source": [
    "### DecisionTree"
   ]
  },
  {
   "cell_type": "code",
   "execution_count": 22,
   "metadata": {},
   "outputs": [
    {
     "data": {
      "text/plain": [
       "0.5656877897990726"
      ]
     },
     "execution_count": 22,
     "metadata": {},
     "output_type": "execute_result"
    }
   ],
   "source": [
    "f1 = 0\n",
    "for depth in range(2,15):\n",
    "    model = DecisionTreeClassifier(max_depth=depth, random_state=42)\n",
    "    model.fit(X_train, y_train)\n",
    "    if f1_score(y_val, model.predict(X_val)) > f1:\n",
    "        f1 = f1_score(y_val, model.predict(X_val))\n",
    "        model_tree = model\n",
    "        \n",
    "f1"
   ]
  },
  {
   "cell_type": "code",
   "execution_count": 23,
   "metadata": {},
   "outputs": [
    {
     "data": {
      "image/png": "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\n",
      "text/plain": [
       "<Figure size 432x288 with 1 Axes>"
      ]
     },
     "metadata": {
      "needs_background": "light"
     },
     "output_type": "display_data"
    },
    {
     "name": "stdout",
     "output_type": "stream",
     "text": [
      "ROC_AUC = 0.8343520716402073\n"
     ]
    }
   ],
   "source": [
    "\n",
    "roc_plot(model_tree)"
   ]
  },
  {
   "cell_type": "code",
   "execution_count": 24,
   "metadata": {},
   "outputs": [],
   "source": [
    "total.loc['Decision_Tree', 'unbalanced'] = f1_score(y_val, model_tree.predict(X_val))\n",
    "total.loc['Decision_Tree', 'ROC_AUC'] = roc_auc_score(y_val, model_tree.predict_proba(X_val)[:, 1])"
   ]
  },
  {
   "cell_type": "markdown",
   "metadata": {},
   "source": [
    "### Random Forest"
   ]
  },
  {
   "cell_type": "code",
   "execution_count": 25,
   "metadata": {},
   "outputs": [
    {
     "name": "stdout",
     "output_type": "stream",
     "text": [
      "14 -- 40 -- 0.5762195121951219\n"
     ]
    }
   ],
   "source": [
    "f1 = 0\n",
    "for trees in range(10, 90, 10):  \n",
    "    for depth in range(2,18):\n",
    "        model = RandomForestClassifier(max_depth=depth, n_estimators=trees, random_state=42)\n",
    "        model.fit(X_train, y_train)\n",
    "        if f1_score(y_val, model.predict(X_val)) > f1:\n",
    "            f1 = f1_score(y_val, model.predict(X_val))\n",
    "            depth_best = depth\n",
    "            trees_best = trees\n",
    "            model_df = model\n",
    "            \n",
    "print(depth_best, '--', trees_best, '--', f1)"
   ]
  },
  {
   "cell_type": "code",
   "execution_count": 26,
   "metadata": {
    "scrolled": true
   },
   "outputs": [
    {
     "data": {
      "image/png": "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\n",
      "text/plain": [
       "<Figure size 432x288 with 1 Axes>"
      ]
     },
     "metadata": {
      "needs_background": "light"
     },
     "output_type": "display_data"
    },
    {
     "name": "stdout",
     "output_type": "stream",
     "text": [
      "ROC_AUC = 0.8471013386267624\n"
     ]
    }
   ],
   "source": [
    "roc_plot(model_df)"
   ]
  },
  {
   "cell_type": "code",
   "execution_count": 27,
   "metadata": {},
   "outputs": [],
   "source": [
    "total.loc['Random_Forest', 'unbalanced'] = f1_score(y_val, model_df.predict(X_val))\n",
    "total.loc['Random_Forest', 'ROC_AUC'] = roc_auc_score(y_val, model_df.predict_proba(X_val)[:, 1])"
   ]
  },
  {
   "cell_type": "markdown",
   "metadata": {},
   "source": [
    "### CatBoost"
   ]
  },
  {
   "cell_type": "code",
   "execution_count": 28,
   "metadata": {},
   "outputs": [
    {
     "name": "stdout",
     "output_type": "stream",
     "text": [
      "Learning rate set to 0.09418\n",
      "0:\tlearn: 0.6204745\ttest: 0.6221084\tbest: 0.6221084 (0)\ttotal: 58.5ms\tremaining: 58.4s\n",
      "50:\tlearn: 0.3074163\ttest: 0.3421837\tbest: 0.3420354 (49)\ttotal: 2.34s\tremaining: 43.6s\n",
      "100:\tlearn: 0.2807913\ttest: 0.3386586\tbest: 0.3380586 (88)\ttotal: 4.6s\tremaining: 41s\n",
      "150:\tlearn: 0.2566445\ttest: 0.3408351\tbest: 0.3380586 (88)\ttotal: 6.98s\tremaining: 39.3s\n",
      "200:\tlearn: 0.2361090\ttest: 0.3455877\tbest: 0.3380586 (88)\ttotal: 9.26s\tremaining: 36.8s\n",
      "250:\tlearn: 0.2167956\ttest: 0.3481496\tbest: 0.3380586 (88)\ttotal: 11.7s\tremaining: 35s\n",
      "Stopped by overfitting detector  (200 iterations wait)\n",
      "\n",
      "bestTest = 0.3380586477\n",
      "bestIteration = 88\n",
      "\n",
      "Shrink model to first 89 iterations.\n"
     ]
    },
    {
     "data": {
      "text/plain": [
       "<catboost.core.CatBoostClassifier at 0x7f61cd052610>"
      ]
     },
     "execution_count": 28,
     "metadata": {},
     "output_type": "execute_result"
    }
   ],
   "source": [
    "model_cb = CatBoostClassifier(random_state=42)\n",
    "model_cb.fit(X_train, y=y_train, eval_set=(X_val, y_val), early_stopping_rounds=200, verbose=50)"
   ]
  },
  {
   "cell_type": "code",
   "execution_count": 29,
   "metadata": {},
   "outputs": [
    {
     "data": {
      "text/plain": [
       "0.6037151702786377"
      ]
     },
     "execution_count": 29,
     "metadata": {},
     "output_type": "execute_result"
    }
   ],
   "source": [
    "f1_score(y_test, model_cb.predict(X_test))"
   ]
  },
  {
   "cell_type": "code",
   "execution_count": 30,
   "metadata": {},
   "outputs": [
    {
     "data": {
      "image/png": "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\n",
      "text/plain": [
       "<Figure size 432x288 with 1 Axes>"
      ]
     },
     "metadata": {
      "needs_background": "light"
     },
     "output_type": "display_data"
    },
    {
     "name": "stdout",
     "output_type": "stream",
     "text": [
      "ROC_AUC = 0.8634134905321347\n"
     ]
    }
   ],
   "source": [
    "roc_plot(model_cb)"
   ]
  },
  {
   "cell_type": "code",
   "execution_count": 31,
   "metadata": {},
   "outputs": [],
   "source": [
    "total.loc['Catboost', 'unbalanced'] = f1_score(y_val, model_cb.predict(X_val))\n",
    "total.loc['Catboost', 'ROC_AUC'] = roc_auc_score(y_val, model_cb.predict_proba(X_val)[:, 1])"
   ]
  },
  {
   "cell_type": "markdown",
   "metadata": {},
   "source": [
    "#### Вывод \n",
    "Decision tree показала плохие результаты. У Random forest выше F1-мера, чем у CAtboost, но ROC AUC ниже."
   ]
  },
  {
   "cell_type": "markdown",
   "metadata": {},
   "source": [
    "## Сбалансированные классы <a id=3></a>"
   ]
  },
  {
   "cell_type": "markdown",
   "metadata": {},
   "source": [
    "### Посчитаем метрки f1 и ROC_AUC для 3 моделей Decision_Tree, Random_Forest, Catboost. \n",
    "\n",
    "Классы сбалансируем 3 методами:\n",
    "* изменение гиперпараметра class_weight\n",
    "* увеличением положительных записей\n",
    "* уменьшением отрицательных записей"
   ]
  },
  {
   "cell_type": "markdown",
   "metadata": {},
   "source": [
    "### Decision Tree"
   ]
  },
  {
   "cell_type": "markdown",
   "metadata": {},
   "source": [
    "#### class weight"
   ]
  },
  {
   "cell_type": "code",
   "execution_count": 32,
   "metadata": {},
   "outputs": [
    {
     "data": {
      "text/plain": [
       "0.5874524714828898"
      ]
     },
     "execution_count": 32,
     "metadata": {},
     "output_type": "execute_result"
    }
   ],
   "source": [
    "f1 = 0\n",
    "for depth in range(2,15):\n",
    "    model = DecisionTreeClassifier(class_weight='balanced', max_depth=depth, random_state=42)\n",
    "    model.fit(X_train, y_train)\n",
    "    if f1_score(y_val, model.predict(X_val)) > f1:\n",
    "        f1 = f1_score(y_val, model.predict(X_val))\n",
    "        model_tree_cw = model\n",
    "        \n",
    "f1"
   ]
  },
  {
   "cell_type": "code",
   "execution_count": 33,
   "metadata": {},
   "outputs": [
    {
     "data": {
      "image/png": "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\n",
      "text/plain": [
       "<Figure size 432x288 with 1 Axes>"
      ]
     },
     "metadata": {
      "needs_background": "light"
     },
     "output_type": "display_data"
    },
    {
     "name": "stdout",
     "output_type": "stream",
     "text": [
      "ROC_AUC = 0.8310290259442802\n"
     ]
    }
   ],
   "source": [
    "roc_plot(model_tree_cw)"
   ]
  },
  {
   "cell_type": "code",
   "execution_count": 34,
   "metadata": {},
   "outputs": [],
   "source": [
    "total.loc['Decision_Tree', 'class_weight'] = f1_score(y_val, model_tree_cw.predict(X_val))\n",
    "total.loc['Decision_Tree', 'ROC_AUC_cw'] = roc_auc_score(y_val, model_tree_cw.predict_proba(X_val)[:, 1])"
   ]
  },
  {
   "cell_type": "markdown",
   "metadata": {},
   "source": [
    "#### upsampled"
   ]
  },
  {
   "cell_type": "code",
   "execution_count": 35,
   "metadata": {},
   "outputs": [
    {
     "data": {
      "text/plain": [
       "0.5874524714828898"
      ]
     },
     "execution_count": 35,
     "metadata": {},
     "output_type": "execute_result"
    }
   ],
   "source": [
    "f1 = 0\n",
    "for depth in range(2,15):\n",
    "    model = DecisionTreeClassifier(max_depth=depth, random_state=42)\n",
    "    model.fit(X_upsampled, y_upsampled)\n",
    "    if f1_score(y_val, model.predict(X_val)) > f1:\n",
    "        f1 = f1_score(y_val, model.predict(X_val))\n",
    "        model_tree_up = model\n",
    "        \n",
    "f1"
   ]
  },
  {
   "cell_type": "code",
   "execution_count": 36,
   "metadata": {},
   "outputs": [
    {
     "data": {
      "image/png": "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\n",
      "text/plain": [
       "<Figure size 432x288 with 1 Axes>"
      ]
     },
     "metadata": {
      "needs_background": "light"
     },
     "output_type": "display_data"
    },
    {
     "name": "stdout",
     "output_type": "stream",
     "text": [
      "ROC_AUC = 0.8310290259442802\n"
     ]
    }
   ],
   "source": [
    "roc_plot(model_tree_up)"
   ]
  },
  {
   "cell_type": "code",
   "execution_count": 37,
   "metadata": {},
   "outputs": [],
   "source": [
    "total.loc['Decision_Tree', 'upsampled'] = f1_score(y_val, model_tree_up.predict(X_val))\n",
    "total.loc['Decision_Tree', 'ROC_AUC_up'] = roc_auc_score(y_val, model_tree_up.predict_proba(X_val)[:, 1])"
   ]
  },
  {
   "cell_type": "markdown",
   "metadata": {},
   "source": [
    "#### downsampled"
   ]
  },
  {
   "cell_type": "code",
   "execution_count": 38,
   "metadata": {},
   "outputs": [
    {
     "data": {
      "text/plain": [
       "0.5936254980079682"
      ]
     },
     "execution_count": 38,
     "metadata": {},
     "output_type": "execute_result"
    }
   ],
   "source": [
    "f1 = 0\n",
    "for depth in range(2,15):\n",
    "    model = DecisionTreeClassifier(max_depth=depth, random_state=42)\n",
    "    model.fit(X_downsampled, y_downsampled)\n",
    "    if f1_score(y_val, model.predict(X_val)) > f1:\n",
    "        f1 = f1_score(y_val, model.predict(X_val))\n",
    "        model_tree_up = model\n",
    "        \n",
    "f1"
   ]
  },
  {
   "cell_type": "code",
   "execution_count": 39,
   "metadata": {},
   "outputs": [
    {
     "data": {
      "image/png": "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\n",
      "text/plain": [
       "<Figure size 432x288 with 1 Axes>"
      ]
     },
     "metadata": {
      "needs_background": "light"
     },
     "output_type": "display_data"
    },
    {
     "name": "stdout",
     "output_type": "stream",
     "text": [
      "ROC_AUC = 0.8215156604987114\n"
     ]
    }
   ],
   "source": [
    "roc_plot(model_tree_up)"
   ]
  },
  {
   "cell_type": "code",
   "execution_count": 40,
   "metadata": {},
   "outputs": [],
   "source": [
    "total.loc['Decision_Tree', 'downsampled'] = f1_score(y_val, model_tree_up.predict(X_val))\n",
    "total.loc['Decision_Tree', 'ROC_AUC_dwn'] = roc_auc_score(y_val, model_tree_up.predict_proba(X_val)[:, 1])"
   ]
  },
  {
   "cell_type": "markdown",
   "metadata": {},
   "source": [
    "### Random Forest"
   ]
  },
  {
   "cell_type": "markdown",
   "metadata": {},
   "source": [
    "#### class weight"
   ]
  },
  {
   "cell_type": "code",
   "execution_count": 41,
   "metadata": {},
   "outputs": [
    {
     "name": "stdout",
     "output_type": "stream",
     "text": [
      "10 -- 40 -- 0.6374695863746959\n"
     ]
    }
   ],
   "source": [
    "f1 = 0\n",
    "for trees in range(10, 90, 10):  \n",
    "    for depth in range(2,18):\n",
    "        model = RandomForestClassifier(max_depth=depth, n_estimators=trees, random_state=42, class_weight='balanced')\n",
    "        model.fit(X_train, y_train)\n",
    "        if f1_score(y_val, model.predict(X_val)) > f1:\n",
    "            f1 = f1_score(y_val, model.predict(X_val))\n",
    "            depth_best_cw = depth\n",
    "            trees_best_cw = trees\n",
    "            model_df_cw = model\n",
    "            \n",
    "print(depth_best_cw, '--', trees_best_cw, '--', f1)"
   ]
  },
  {
   "cell_type": "code",
   "execution_count": 42,
   "metadata": {},
   "outputs": [
    {
     "data": {
      "image/png": "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\n",
      "text/plain": [
       "<Figure size 432x288 with 1 Axes>"
      ]
     },
     "metadata": {
      "needs_background": "light"
     },
     "output_type": "display_data"
    },
    {
     "name": "stdout",
     "output_type": "stream",
     "text": [
      "ROC_AUC = 0.8548039564988718\n"
     ]
    }
   ],
   "source": [
    "roc_plot(model_df_cw)"
   ]
  },
  {
   "cell_type": "code",
   "execution_count": 43,
   "metadata": {},
   "outputs": [],
   "source": [
    "total.loc['Random_Forest', 'class_weight'] = f1_score(y_val, model_df_cw.predict(X_val))\n",
    "total.loc['Random_Forest', 'ROC_AUC_cw'] = roc_auc_score(y_val, model_df_cw.predict_proba(X_val)[:, 1])"
   ]
  },
  {
   "cell_type": "markdown",
   "metadata": {},
   "source": [
    "#### upsampled"
   ]
  },
  {
   "cell_type": "code",
   "execution_count": 44,
   "metadata": {},
   "outputs": [
    {
     "name": "stdout",
     "output_type": "stream",
     "text": [
      "12 -- 70 -- 0.636471990464839\n"
     ]
    }
   ],
   "source": [
    "f1 = 0\n",
    "for trees in range(10, 90, 10):  \n",
    "    for depth in range(2,18):\n",
    "        model = RandomForestClassifier(max_depth=depth, n_estimators=trees, random_state=42)\n",
    "        model.fit(X_upsampled, y_upsampled)\n",
    "        if f1_score(y_val, model.predict(X_val)) > f1:\n",
    "            f1 = f1_score(y_val, model.predict(X_val))\n",
    "            depth_best_up = depth\n",
    "            trees_best_up = trees\n",
    "            model_df_up = model\n",
    "            \n",
    "print(depth_best_up, '--', trees_best_up, '--', f1)"
   ]
  },
  {
   "cell_type": "code",
   "execution_count": 45,
   "metadata": {},
   "outputs": [
    {
     "data": {
      "image/png": "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\n",
      "text/plain": [
       "<Figure size 432x288 with 1 Axes>"
      ]
     },
     "metadata": {
      "needs_background": "light"
     },
     "output_type": "display_data"
    },
    {
     "name": "stdout",
     "output_type": "stream",
     "text": [
      "ROC_AUC = 0.85631239868528\n"
     ]
    }
   ],
   "source": [
    "roc_plot(model_df_up)"
   ]
  },
  {
   "cell_type": "code",
   "execution_count": 46,
   "metadata": {},
   "outputs": [],
   "source": [
    "total.loc['Random_Forest', 'upsampled'] = f1_score(y_val, model_df_up.predict(X_val))\n",
    "total.loc['Random_Forest', 'ROC_AUC_up'] = roc_auc_score(y_val, model_df_up.predict_proba(X_val)[:, 1])"
   ]
  },
  {
   "cell_type": "markdown",
   "metadata": {},
   "source": [
    "#### downsampled"
   ]
  },
  {
   "cell_type": "code",
   "execution_count": 47,
   "metadata": {},
   "outputs": [
    {
     "name": "stdout",
     "output_type": "stream",
     "text": [
      "7 -- 40 -- 0.5996055226824458\n"
     ]
    }
   ],
   "source": [
    "f1 = 0\n",
    "for trees in range(10, 90, 10):  \n",
    "    for depth in range(2,18):\n",
    "        model = RandomForestClassifier(max_depth=depth, n_estimators=trees, random_state=42)\n",
    "        model.fit(X_downsampled, y_downsampled)\n",
    "        if f1_score(y_val, model.predict(X_val)) > f1:\n",
    "            f1 = f1_score(y_val, model.predict(X_val))\n",
    "            depth_best_dwn = depth\n",
    "            trees_best_dwn = trees\n",
    "            model_df_dwn = model\n",
    "            \n",
    "print(depth_best_dwn, '--', trees_best_dwn, '--', f1)"
   ]
  },
  {
   "cell_type": "code",
   "execution_count": 48,
   "metadata": {},
   "outputs": [
    {
     "data": {
      "image/png": "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\n",
      "text/plain": [
       "<Figure size 432x288 with 1 Axes>"
      ]
     },
     "metadata": {
      "needs_background": "light"
     },
     "output_type": "display_data"
    },
    {
     "name": "stdout",
     "output_type": "stream",
     "text": [
      "ROC_AUC = 0.8516474872407076\n"
     ]
    }
   ],
   "source": [
    "roc_plot(model_df_dwn)"
   ]
  },
  {
   "cell_type": "code",
   "execution_count": 49,
   "metadata": {},
   "outputs": [],
   "source": [
    "total.loc['Random_Forest', 'downsampled'] = f1_score(y_val, model_df_dwn.predict(X_val))\n",
    "total.loc['Random_Forest', 'ROC_AUC_dwn'] = roc_auc_score(y_val, model_df_dwn.predict_proba(X_val)[:, 1])"
   ]
  },
  {
   "cell_type": "markdown",
   "metadata": {},
   "source": [
    "### CatBoost"
   ]
  },
  {
   "cell_type": "markdown",
   "metadata": {},
   "source": [
    "#### class weight"
   ]
  },
  {
   "cell_type": "code",
   "execution_count": 50,
   "metadata": {},
   "outputs": [
    {
     "name": "stdout",
     "output_type": "stream",
     "text": [
      "Learning rate set to 0.09418\n",
      "0:\tlearn: 0.6510577\ttest: 0.6540129\tbest: 0.6540129 (0)\ttotal: 13.7ms\tremaining: 13.7s\n",
      "50:\tlearn: 0.4161620\ttest: 0.4614609\tbest: 0.4613556 (49)\ttotal: 2.51s\tremaining: 46.6s\n",
      "100:\tlearn: 0.3742539\ttest: 0.4613599\tbest: 0.4588405 (74)\ttotal: 4.89s\tremaining: 43.5s\n",
      "150:\tlearn: 0.3354191\ttest: 0.4714061\tbest: 0.4588405 (74)\ttotal: 7.44s\tremaining: 41.9s\n",
      "200:\tlearn: 0.2998002\ttest: 0.4813158\tbest: 0.4588405 (74)\ttotal: 9.84s\tremaining: 39.1s\n",
      "250:\tlearn: 0.2722173\ttest: 0.4866959\tbest: 0.4588405 (74)\ttotal: 12.4s\tremaining: 36.9s\n",
      "Stopped by overfitting detector  (200 iterations wait)\n",
      "\n",
      "bestTest = 0.4588405361\n",
      "bestIteration = 74\n",
      "\n",
      "Shrink model to first 75 iterations.\n"
     ]
    },
    {
     "data": {
      "text/plain": [
       "<catboost.core.CatBoostClassifier at 0x7f61666c5e50>"
      ]
     },
     "execution_count": 50,
     "metadata": {},
     "output_type": "execute_result"
    }
   ],
   "source": [
    "model = CatBoostClassifier(random_state=42, class_weights=[1,4])\n",
    "model.fit(X_train, y=y_train, eval_set=(X_val, y_val), early_stopping_rounds=200, verbose=50)"
   ]
  },
  {
   "cell_type": "code",
   "execution_count": 51,
   "metadata": {},
   "outputs": [
    {
     "data": {
      "text/plain": [
       "0.604"
      ]
     },
     "execution_count": 51,
     "metadata": {},
     "output_type": "execute_result"
    }
   ],
   "source": [
    "f1_score(y_val, model.predict(X_val))"
   ]
  },
  {
   "cell_type": "code",
   "execution_count": 52,
   "metadata": {},
   "outputs": [
    {
     "data": {
      "image/png": "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\n",
      "text/plain": [
       "<Figure size 432x288 with 1 Axes>"
      ]
     },
     "metadata": {
      "needs_background": "light"
     },
     "output_type": "display_data"
    },
    {
     "name": "stdout",
     "output_type": "stream",
     "text": [
      "ROC_AUC = 0.865304441575628\n"
     ]
    }
   ],
   "source": [
    "roc_plot(model)"
   ]
  },
  {
   "cell_type": "code",
   "execution_count": 53,
   "metadata": {},
   "outputs": [],
   "source": [
    "total.loc['Catboost', 'class_weight'] = f1_score(y_val, model.predict(X_val))\n",
    "total.loc['Catboost', 'ROC_AUC_cw'] = roc_auc_score(y_val, model.predict_proba(X_val)[:, 1])"
   ]
  },
  {
   "cell_type": "markdown",
   "metadata": {},
   "source": [
    "### upsampled"
   ]
  },
  {
   "cell_type": "code",
   "execution_count": 54,
   "metadata": {},
   "outputs": [
    {
     "name": "stdout",
     "output_type": "stream",
     "text": [
      "Learning rate set to 0.099018\n",
      "0:\tlearn: 0.6431241\ttest: 0.6485282\tbest: 0.6485282 (0)\ttotal: 10.9ms\tremaining: 10.9s\n",
      "50:\tlearn: 0.4018442\ttest: 0.4400192\tbest: 0.4399376 (49)\ttotal: 2.93s\tremaining: 54.4s\n",
      "100:\tlearn: 0.3543999\ttest: 0.4249469\tbest: 0.4249469 (100)\ttotal: 5.89s\tremaining: 52.4s\n",
      "150:\tlearn: 0.3139978\ttest: 0.4156909\tbest: 0.4156492 (149)\ttotal: 8.77s\tremaining: 49.3s\n",
      "200:\tlearn: 0.2799245\ttest: 0.4089180\tbest: 0.4087335 (191)\ttotal: 11.6s\tremaining: 45.9s\n",
      "250:\tlearn: 0.2510826\ttest: 0.4029565\tbest: 0.4025478 (244)\ttotal: 14.6s\tremaining: 43.6s\n",
      "300:\tlearn: 0.2277194\ttest: 0.4011307\tbest: 0.4001288 (288)\ttotal: 17.6s\tremaining: 40.8s\n",
      "350:\tlearn: 0.2053637\ttest: 0.3963610\tbest: 0.3963531 (349)\ttotal: 20.6s\tremaining: 38.2s\n",
      "400:\tlearn: 0.1867622\ttest: 0.3971864\tbest: 0.3962757 (352)\ttotal: 23.6s\tremaining: 35.3s\n",
      "450:\tlearn: 0.1690531\ttest: 0.3957121\tbest: 0.3956966 (449)\ttotal: 26.5s\tremaining: 32.2s\n",
      "500:\tlearn: 0.1552685\ttest: 0.3951642\tbest: 0.3949618 (499)\ttotal: 29.3s\tremaining: 29.2s\n",
      "550:\tlearn: 0.1427656\ttest: 0.3937435\tbest: 0.3937247 (549)\ttotal: 31.9s\tremaining: 26s\n",
      "600:\tlearn: 0.1309922\ttest: 0.3950962\tbest: 0.3936860 (552)\ttotal: 34.6s\tremaining: 23s\n",
      "650:\tlearn: 0.1200813\ttest: 0.3948459\tbest: 0.3936860 (552)\ttotal: 37s\tremaining: 19.9s\n",
      "700:\tlearn: 0.1112394\ttest: 0.3959564\tbest: 0.3936860 (552)\ttotal: 38.6s\tremaining: 16.5s\n",
      "750:\tlearn: 0.1029243\ttest: 0.3967998\tbest: 0.3936860 (552)\ttotal: 40.1s\tremaining: 13.3s\n",
      "Stopped by overfitting detector  (200 iterations wait)\n",
      "\n",
      "bestTest = 0.3936860351\n",
      "bestIteration = 552\n",
      "\n",
      "Shrink model to first 553 iterations.\n"
     ]
    },
    {
     "data": {
      "text/plain": [
       "<catboost.core.CatBoostClassifier at 0x7f6163599fd0>"
      ]
     },
     "execution_count": 54,
     "metadata": {},
     "output_type": "execute_result"
    }
   ],
   "source": [
    "model = CatBoostClassifier(random_state=42)\n",
    "model.fit(X_upsampled, y=y_upsampled, eval_set=(X_val, y_val), early_stopping_rounds=200, verbose=50)"
   ]
  },
  {
   "cell_type": "code",
   "execution_count": 55,
   "metadata": {},
   "outputs": [
    {
     "data": {
      "text/plain": [
       "0.6204465334900118"
      ]
     },
     "execution_count": 55,
     "metadata": {},
     "output_type": "execute_result"
    }
   ],
   "source": [
    "f1_score(y_val, model.predict(X_val))"
   ]
  },
  {
   "cell_type": "code",
   "execution_count": 56,
   "metadata": {},
   "outputs": [
    {
     "data": {
      "image/png": "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\n",
      "text/plain": [
       "<Figure size 432x288 with 1 Axes>"
      ]
     },
     "metadata": {
      "needs_background": "light"
     },
     "output_type": "display_data"
    },
    {
     "name": "stdout",
     "output_type": "stream",
     "text": [
      "ROC_AUC = 0.8466756432858127\n"
     ]
    }
   ],
   "source": [
    "roc_plot(model)"
   ]
  },
  {
   "cell_type": "code",
   "execution_count": 57,
   "metadata": {},
   "outputs": [],
   "source": [
    "total.loc['Catboost', 'upsampled'] = f1_score(y_val, model.predict(X_val))\n",
    "total.loc['Catboost', 'ROC_AUC_up'] = roc_auc_score(y_val, model.predict_proba(X_val)[:, 1])"
   ]
  },
  {
   "cell_type": "markdown",
   "metadata": {},
   "source": [
    "#### downsample"
   ]
  },
  {
   "cell_type": "code",
   "execution_count": 58,
   "metadata": {},
   "outputs": [
    {
     "name": "stdout",
     "output_type": "stream",
     "text": [
      "Learning rate set to 0.085604\n",
      "0:\tlearn: 0.6565998\ttest: 0.6606924\tbest: 0.6606924 (0)\ttotal: 2.93ms\tremaining: 2.92s\n",
      "50:\tlearn: 0.4091902\ttest: 0.4600548\tbest: 0.4600548 (50)\ttotal: 918ms\tremaining: 17.1s\n",
      "100:\tlearn: 0.3581330\ttest: 0.4551411\tbest: 0.4541914 (82)\ttotal: 1.89s\tremaining: 16.9s\n",
      "150:\tlearn: 0.3155096\ttest: 0.4559962\tbest: 0.4540095 (113)\ttotal: 2.97s\tremaining: 16.7s\n",
      "200:\tlearn: 0.2778215\ttest: 0.4595519\tbest: 0.4540095 (113)\ttotal: 3.95s\tremaining: 15.7s\n",
      "250:\tlearn: 0.2448523\ttest: 0.4632446\tbest: 0.4540095 (113)\ttotal: 4.93s\tremaining: 14.7s\n",
      "300:\tlearn: 0.2184881\ttest: 0.4679903\tbest: 0.4540095 (113)\ttotal: 6s\tremaining: 13.9s\n",
      "Stopped by overfitting detector  (200 iterations wait)\n",
      "\n",
      "bestTest = 0.4540095075\n",
      "bestIteration = 113\n",
      "\n",
      "Shrink model to first 114 iterations.\n"
     ]
    },
    {
     "data": {
      "text/plain": [
       "<catboost.core.CatBoostClassifier at 0x7f6163f13d90>"
      ]
     },
     "execution_count": 58,
     "metadata": {},
     "output_type": "execute_result"
    }
   ],
   "source": [
    "model = CatBoostClassifier(random_state=42)\n",
    "model.fit(X_downsampled, y=y_downsampled, eval_set=(X_val, y_val), early_stopping_rounds=200, verbose=50)"
   ]
  },
  {
   "cell_type": "code",
   "execution_count": 59,
   "metadata": {},
   "outputs": [
    {
     "data": {
      "text/plain": [
       "0.6038834951456311"
      ]
     },
     "execution_count": 59,
     "metadata": {},
     "output_type": "execute_result"
    }
   ],
   "source": [
    "f1_score(y_val, model.predict(X_val))"
   ]
  },
  {
   "cell_type": "code",
   "execution_count": 60,
   "metadata": {},
   "outputs": [],
   "source": [
    "catboost_dwn = model"
   ]
  },
  {
   "cell_type": "code",
   "execution_count": 61,
   "metadata": {},
   "outputs": [
    {
     "data": {
      "image/png": "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\n",
      "text/plain": [
       "<Figure size 432x288 with 1 Axes>"
      ]
     },
     "metadata": {
      "needs_background": "light"
     },
     "output_type": "display_data"
    },
    {
     "name": "stdout",
     "output_type": "stream",
     "text": [
      "ROC_AUC = 0.8636849484307113\n"
     ]
    }
   ],
   "source": [
    "roc_plot(model)"
   ]
  },
  {
   "cell_type": "code",
   "execution_count": 62,
   "metadata": {},
   "outputs": [],
   "source": [
    "total.loc['Catboost', 'downsampled'] = f1_score(y_val, model.predict(X_val))\n",
    "total.loc['Catboost', 'ROC_AUC_dwn'] = roc_auc_score(y_val, model.predict_proba(X_val)[:, 1])"
   ]
  },
  {
   "cell_type": "markdown",
   "metadata": {},
   "source": [
    "## Тестирование <a id=4></a>"
   ]
  },
  {
   "cell_type": "markdown",
   "metadata": {},
   "source": [
    "Протестируем модели с самым высоким значение F1-меры для каждого из методов(F1>0.59). Первое тестирование будет для обученных моделях на тестовой выборке. При втором обучим модели на train + val выборках."
   ]
  },
  {
   "cell_type": "code",
   "execution_count": 63,
   "metadata": {},
   "outputs": [
    {
     "data": {
      "text/html": [
       "<style  type=\"text/css\" >\n",
       "    #T_e8f155a4_3617_11eb_a41c_02420a39e8b6row1_col0 {\n",
       "            background-color:  yellow;\n",
       "        }    #T_e8f155a4_3617_11eb_a41c_02420a39e8b6row1_col1 {\n",
       "            background-color:  yellow;\n",
       "        }    #T_e8f155a4_3617_11eb_a41c_02420a39e8b6row1_col2 {\n",
       "            background-color:  yellow;\n",
       "        }    #T_e8f155a4_3617_11eb_a41c_02420a39e8b6row1_col6 {\n",
       "            background-color:  yellow;\n",
       "        }    #T_e8f155a4_3617_11eb_a41c_02420a39e8b6row2_col3 {\n",
       "            background-color:  yellow;\n",
       "        }    #T_e8f155a4_3617_11eb_a41c_02420a39e8b6row2_col4 {\n",
       "            background-color:  yellow;\n",
       "        }    #T_e8f155a4_3617_11eb_a41c_02420a39e8b6row2_col5 {\n",
       "            background-color:  yellow;\n",
       "        }    #T_e8f155a4_3617_11eb_a41c_02420a39e8b6row2_col7 {\n",
       "            background-color:  yellow;\n",
       "        }</style><table id=\"T_e8f155a4_3617_11eb_a41c_02420a39e8b6\" ><thead>    <tr>        <th class=\"blank level0\" ></th>        <th class=\"col_heading level0 col0\" >unbalanced</th>        <th class=\"col_heading level0 col1\" >class_weight</th>        <th class=\"col_heading level0 col2\" >upsampled</th>        <th class=\"col_heading level0 col3\" >downsampled</th>        <th class=\"col_heading level0 col4\" >ROC_AUC</th>        <th class=\"col_heading level0 col5\" >ROC_AUC_cw</th>        <th class=\"col_heading level0 col6\" >ROC_AUC_up</th>        <th class=\"col_heading level0 col7\" >ROC_AUC_dwn</th>    </tr></thead><tbody>\n",
       "                <tr>\n",
       "                        <th id=\"T_e8f155a4_3617_11eb_a41c_02420a39e8b6level0_row0\" class=\"row_heading level0 row0\" >Decision_Tree</th>\n",
       "                        <td id=\"T_e8f155a4_3617_11eb_a41c_02420a39e8b6row0_col0\" class=\"data row0 col0\" >0.565688</td>\n",
       "                        <td id=\"T_e8f155a4_3617_11eb_a41c_02420a39e8b6row0_col1\" class=\"data row0 col1\" >0.587452</td>\n",
       "                        <td id=\"T_e8f155a4_3617_11eb_a41c_02420a39e8b6row0_col2\" class=\"data row0 col2\" >0.587452</td>\n",
       "                        <td id=\"T_e8f155a4_3617_11eb_a41c_02420a39e8b6row0_col3\" class=\"data row0 col3\" >0.593625</td>\n",
       "                        <td id=\"T_e8f155a4_3617_11eb_a41c_02420a39e8b6row0_col4\" class=\"data row0 col4\" >0.834352</td>\n",
       "                        <td id=\"T_e8f155a4_3617_11eb_a41c_02420a39e8b6row0_col5\" class=\"data row0 col5\" >0.831029</td>\n",
       "                        <td id=\"T_e8f155a4_3617_11eb_a41c_02420a39e8b6row0_col6\" class=\"data row0 col6\" >0.831029</td>\n",
       "                        <td id=\"T_e8f155a4_3617_11eb_a41c_02420a39e8b6row0_col7\" class=\"data row0 col7\" >0.821516</td>\n",
       "            </tr>\n",
       "            <tr>\n",
       "                        <th id=\"T_e8f155a4_3617_11eb_a41c_02420a39e8b6level0_row1\" class=\"row_heading level0 row1\" >Random_Forest</th>\n",
       "                        <td id=\"T_e8f155a4_3617_11eb_a41c_02420a39e8b6row1_col0\" class=\"data row1 col0\" >0.57622</td>\n",
       "                        <td id=\"T_e8f155a4_3617_11eb_a41c_02420a39e8b6row1_col1\" class=\"data row1 col1\" >0.63747</td>\n",
       "                        <td id=\"T_e8f155a4_3617_11eb_a41c_02420a39e8b6row1_col2\" class=\"data row1 col2\" >0.636472</td>\n",
       "                        <td id=\"T_e8f155a4_3617_11eb_a41c_02420a39e8b6row1_col3\" class=\"data row1 col3\" >0.599606</td>\n",
       "                        <td id=\"T_e8f155a4_3617_11eb_a41c_02420a39e8b6row1_col4\" class=\"data row1 col4\" >0.847101</td>\n",
       "                        <td id=\"T_e8f155a4_3617_11eb_a41c_02420a39e8b6row1_col5\" class=\"data row1 col5\" >0.854804</td>\n",
       "                        <td id=\"T_e8f155a4_3617_11eb_a41c_02420a39e8b6row1_col6\" class=\"data row1 col6\" >0.856312</td>\n",
       "                        <td id=\"T_e8f155a4_3617_11eb_a41c_02420a39e8b6row1_col7\" class=\"data row1 col7\" >0.851647</td>\n",
       "            </tr>\n",
       "            <tr>\n",
       "                        <th id=\"T_e8f155a4_3617_11eb_a41c_02420a39e8b6level0_row2\" class=\"row_heading level0 row2\" >Catboost</th>\n",
       "                        <td id=\"T_e8f155a4_3617_11eb_a41c_02420a39e8b6row2_col0\" class=\"data row2 col0\" >0.574534</td>\n",
       "                        <td id=\"T_e8f155a4_3617_11eb_a41c_02420a39e8b6row2_col1\" class=\"data row2 col1\" >0.604</td>\n",
       "                        <td id=\"T_e8f155a4_3617_11eb_a41c_02420a39e8b6row2_col2\" class=\"data row2 col2\" >0.620447</td>\n",
       "                        <td id=\"T_e8f155a4_3617_11eb_a41c_02420a39e8b6row2_col3\" class=\"data row2 col3\" >0.603883</td>\n",
       "                        <td id=\"T_e8f155a4_3617_11eb_a41c_02420a39e8b6row2_col4\" class=\"data row2 col4\" >0.863413</td>\n",
       "                        <td id=\"T_e8f155a4_3617_11eb_a41c_02420a39e8b6row2_col5\" class=\"data row2 col5\" >0.865304</td>\n",
       "                        <td id=\"T_e8f155a4_3617_11eb_a41c_02420a39e8b6row2_col6\" class=\"data row2 col6\" >0.846676</td>\n",
       "                        <td id=\"T_e8f155a4_3617_11eb_a41c_02420a39e8b6row2_col7\" class=\"data row2 col7\" >0.863685</td>\n",
       "            </tr>\n",
       "    </tbody></table>"
      ],
      "text/plain": [
       "<pandas.io.formats.style.Styler at 0x7f6163563f50>"
      ]
     },
     "execution_count": 63,
     "metadata": {},
     "output_type": "execute_result"
    }
   ],
   "source": [
    "def highlight_max(s):\n",
    "    is_max = s == s.max()\n",
    "    return ['background-color: yellow' if v else '' for v in is_max]\n",
    "total.style.apply(highlight_max)"
   ]
  },
  {
   "cell_type": "markdown",
   "metadata": {},
   "source": [
    "Для тестирования объединим тестовую и валидационную выборки"
   ]
  },
  {
   "cell_type": "code",
   "execution_count": 64,
   "metadata": {},
   "outputs": [],
   "source": [
    "X_0 = X_val[y_val == 0]\n",
    "X_1 = X_val[y_val == 1]\n",
    "y_0 = y_val[y_val == 0]\n",
    "y_1 = y_val[y_val == 1]\n",
    "\n",
    "X_upsampled_val = pd.concat([X_0] + [X_1] * 4)\n",
    "y_upsampled_val = pd.concat([y_0] + [y_1] * 4)\n",
    "X_upsampled_val, y_upsampled_val = shuffle(X_upsampled_val, y_upsampled_val, random_state=42)\n",
    "\n",
    "X_downsampled_val = pd.concat([X_0.sample(frac=0.25, random_state=42)] + [X_1])\n",
    "y_downsampled_val = pd.concat([y_0.sample(frac=0.25, random_state=42)] + [y_1])\n",
    "X_downsampled_val, y_downsampled_val = shuffle(X_downsampled_val, y_downsampled_val, random_state=42)"
   ]
  },
  {
   "cell_type": "code",
   "execution_count": 65,
   "metadata": {},
   "outputs": [],
   "source": [
    "X_train = X_train.append(X_val)\n",
    "y_train = y_train.append(y_val)\n",
    "X_upsampled = X_upsampled.append(X_upsampled_val)\n",
    "y_upsampled = y_upsampled.append(y_upsampled_val)\n",
    "X_downsampled = X_downsampled.append(X_downsampled_val)\n",
    "y_downsampled = y_downsampled.append(y_downsampled_val)"
   ]
  },
  {
   "cell_type": "markdown",
   "metadata": {},
   "source": [
    "### Random Forest"
   ]
  },
  {
   "cell_type": "markdown",
   "metadata": {},
   "source": [
    "#### class weight"
   ]
  },
  {
   "cell_type": "code",
   "execution_count": 66,
   "metadata": {},
   "outputs": [
    {
     "data": {
      "text/plain": [
       "0.6098765432098765"
      ]
     },
     "execution_count": 66,
     "metadata": {},
     "output_type": "execute_result"
    }
   ],
   "source": [
    "f1_score(y_test, model_df_cw.predict(X_test))"
   ]
  },
  {
   "cell_type": "code",
   "execution_count": 67,
   "metadata": {},
   "outputs": [
    {
     "data": {
      "text/plain": [
       "0.6233766233766234"
      ]
     },
     "execution_count": 67,
     "metadata": {},
     "output_type": "execute_result"
    }
   ],
   "source": [
    "model = RandomForestClassifier(max_depth=depth_best_cw, n_estimators=trees_best_cw, random_state=42, class_weight='balanced')\n",
    "model.fit(X_train, y_train)\n",
    "f1_score(y_test, model.predict(X_test))"
   ]
  },
  {
   "cell_type": "markdown",
   "metadata": {},
   "source": [
    "#### upsampling"
   ]
  },
  {
   "cell_type": "code",
   "execution_count": 68,
   "metadata": {},
   "outputs": [
    {
     "data": {
      "text/plain": [
       "0.6107784431137724"
      ]
     },
     "execution_count": 68,
     "metadata": {},
     "output_type": "execute_result"
    }
   ],
   "source": [
    "f1_score(y_test, model_df_up.predict(X_test))"
   ]
  },
  {
   "cell_type": "code",
   "execution_count": 69,
   "metadata": {},
   "outputs": [
    {
     "data": {
      "text/plain": [
       "0.6072684642438452"
      ]
     },
     "execution_count": 69,
     "metadata": {},
     "output_type": "execute_result"
    }
   ],
   "source": [
    "model = RandomForestClassifier(max_depth=depth_best_up, n_estimators=trees_best_up, random_state=42)\n",
    "model.fit(X_upsampled, y_upsampled)\n",
    "f1_score(y_test, model.predict(X_test))"
   ]
  },
  {
   "cell_type": "markdown",
   "metadata": {},
   "source": [
    "#### downsampling"
   ]
  },
  {
   "cell_type": "code",
   "execution_count": 70,
   "metadata": {},
   "outputs": [
    {
     "data": {
      "text/plain": [
       "0.5965909090909092"
      ]
     },
     "execution_count": 70,
     "metadata": {},
     "output_type": "execute_result"
    }
   ],
   "source": [
    "f1_score(y_test, catboost_dwn.predict(X_test))"
   ]
  },
  {
   "cell_type": "code",
   "execution_count": 71,
   "metadata": {},
   "outputs": [
    {
     "name": "stdout",
     "output_type": "stream",
     "text": [
      "Learning rate set to 0.02333\n",
      "0:\tlearn: 0.6829434\ttotal: 4.63ms\tremaining: 4.62s\n",
      "50:\tlearn: 0.4886835\ttotal: 849ms\tremaining: 15.8s\n",
      "100:\tlearn: 0.4483235\ttotal: 1.73s\tremaining: 15.4s\n",
      "150:\tlearn: 0.4254664\ttotal: 2.45s\tremaining: 13.8s\n",
      "200:\tlearn: 0.4095101\ttotal: 3.33s\tremaining: 13.2s\n",
      "250:\tlearn: 0.3969404\ttotal: 4.3s\tremaining: 12.8s\n",
      "300:\tlearn: 0.3858433\ttotal: 5.18s\tremaining: 12s\n",
      "350:\tlearn: 0.3746896\ttotal: 6.16s\tremaining: 11.4s\n",
      "400:\tlearn: 0.3628553\ttotal: 7.04s\tremaining: 10.5s\n",
      "450:\tlearn: 0.3521195\ttotal: 7.93s\tremaining: 9.65s\n",
      "500:\tlearn: 0.3417592\ttotal: 8.9s\tremaining: 8.86s\n",
      "550:\tlearn: 0.3314419\ttotal: 9.88s\tremaining: 8.05s\n",
      "600:\tlearn: 0.3230926\ttotal: 10.8s\tremaining: 7.15s\n",
      "650:\tlearn: 0.3149968\ttotal: 11.7s\tremaining: 6.29s\n",
      "700:\tlearn: 0.3062356\ttotal: 12.6s\tremaining: 5.39s\n",
      "750:\tlearn: 0.2983748\ttotal: 13.6s\tremaining: 4.51s\n",
      "800:\tlearn: 0.2906946\ttotal: 14.5s\tremaining: 3.6s\n",
      "850:\tlearn: 0.2836710\ttotal: 15.4s\tremaining: 2.69s\n",
      "900:\tlearn: 0.2775191\ttotal: 16.3s\tremaining: 1.79s\n",
      "950:\tlearn: 0.2707771\ttotal: 17.2s\tremaining: 888ms\n",
      "999:\tlearn: 0.2652087\ttotal: 18.1s\tremaining: 0us\n"
     ]
    },
    {
     "data": {
      "text/plain": [
       "<catboost.core.CatBoostClassifier at 0x7f61631a8a90>"
      ]
     },
     "execution_count": 71,
     "metadata": {},
     "output_type": "execute_result"
    }
   ],
   "source": [
    "model = CatBoostClassifier(random_state=42)\n",
    "model.fit(X_downsampled, y=y_downsampled, early_stopping_rounds=200, verbose=50)"
   ]
  },
  {
   "cell_type": "code",
   "execution_count": 72,
   "metadata": {},
   "outputs": [
    {
     "data": {
      "text/plain": [
       "0.5808270676691729"
      ]
     },
     "execution_count": 72,
     "metadata": {},
     "output_type": "execute_result"
    }
   ],
   "source": [
    "f1_score(y_test, model.predict(X_test))"
   ]
  },
  {
   "cell_type": "markdown",
   "metadata": {},
   "source": [
    "## Вывод"
   ]
  },
  {
   "cell_type": "markdown",
   "metadata": {},
   "source": [
    "При тестирование 2 методом, увеличение f1-меры получили только у модели Random forest с гиперпараметром class_weight='balanced'"
   ]
  }
 ],
 "metadata": {
  "kernelspec": {
   "display_name": "Python 3",
   "language": "python",
   "name": "python3"
  },
  "language_info": {
   "codemirror_mode": {
    "name": "ipython",
    "version": 3
   },
   "file_extension": ".py",
   "mimetype": "text/x-python",
   "name": "python",
   "nbconvert_exporter": "python",
   "pygments_lexer": "ipython3",
   "version": "3.8.3"
  },
  "toc": {
   "base_numbering": 1,
   "nav_menu": {},
   "number_sections": true,
   "sideBar": true,
   "skip_h1_title": true,
   "title_cell": "Table of Contents",
   "title_sidebar": "Contents",
   "toc_cell": false,
   "toc_position": {},
   "toc_section_display": true,
   "toc_window_display": false
  }
 },
 "nbformat": 4,
 "nbformat_minor": 4
}
