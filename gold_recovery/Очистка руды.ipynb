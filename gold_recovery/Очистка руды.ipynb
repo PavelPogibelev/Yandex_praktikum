{
 "cells": [
  {
   "cell_type": "markdown",
   "metadata": {},
   "source": [
    "# Сборный проект №2"
   ]
  },
  {
   "cell_type": "markdown",
   "metadata": {},
   "source": [
    "### По данным с параметрами добычи и очистки подготовить прототип модели машинного обучения, которая должна предсказать коэффициент восстановления золота из золотосодержащей руды."
   ]
  },
  {
   "cell_type": "markdown",
   "metadata": {},
   "source": [
    "* gold_recovery_train.csv — обучающая выборка Скачать датасет;\n",
    "* gold_recovery_test.csv — тестовая выборка Скачать датасет;\n",
    "* gold_recovery_full.csv — исходные данные Скачать датасет."
   ]
  },
  {
   "cell_type": "markdown",
   "metadata": {},
   "source": [
    "Технологический процесс:\n",
    "* Rougher feed — исходное сырье\n",
    "* Rougher additions (или reagent additions) — флотационные реагенты: Xanthate, Sulphate, Depressant\n",
    "* Xanthate — ксантогенат (промотер, или активатор флотации);\n",
    "* Sulphate — сульфат (на данном производстве сульфид натрия);\n",
    "* Depressant — депрессант (силикат натрия).\n",
    "* Rougher process (англ. «грубый процесс») — флотация\n",
    "* Rougher tails — отвальные хвосты\n",
    "* Float banks — флотационная установка\n",
    "* Cleaner process — очистка\n",
    "* Rougher Au — черновой концентрат золота\n",
    "* Final Au — финальный концентрат золота\n",
    "* Параметры этапов\n",
    "* air amount — объём воздуха\n",
    "* fluid levels — уровень жидкости\n",
    "* feed size — размер гранул сырья\n",
    "* feed rate — скорость подачи\n",
    "* Наименование признаков\n",
    "* Наименование признаков должно быть такое:\n",
    "\n",
    "[этап].[тип_параметра].[название_параметра]\n",
    "\n",
    "Пример: rougher.input.feed_ag\n",
    "\n",
    "Возможные значения для блока [этап]:\n",
    "\n",
    "* rougher — флотация\n",
    "* primary_cleaner — первичная очистка\n",
    "* secondary_cleaner — вторичная очистка\n",
    "* final — финальные характеристики\n",
    "\n",
    "Возможные значения для блока [тип_параметра]:\n",
    "\n",
    "* input — параметры сырья\n",
    "* output — параметры продукта\n",
    "* state — параметры, характеризующие текущее состояние этапа\n",
    "* calculation — расчётные характеристики"
   ]
  },
  {
   "cell_type": "markdown",
   "metadata": {},
   "source": [
    "### Оглавление\n",
    "1. Загрузка данных и библиотек\n",
    "2. [Подготовка данных](#1)\n",
    "3. [Анализ данных](#2)\n",
    "4. [Создание и проверка моделей](#3)\n",
    "5. [Общий вывод](#4)"
   ]
  },
  {
   "cell_type": "markdown",
   "metadata": {},
   "source": [
    "# Загрузка данных и библиотек"
   ]
  },
  {
   "cell_type": "code",
   "execution_count": 1,
   "metadata": {},
   "outputs": [],
   "source": [
    "import pandas as pd\n",
    "import numpy as np\n",
    "from sklearn.metrics import mean_absolute_error\n",
    "from sklearn.model_selection import train_test_split\n",
    "from catboost import CatBoostRegressor \n",
    "import matplotlib.pyplot as plt\n",
    "from sklearn.linear_model import LinearRegression\n",
    "from sklearn.tree import DecisionTreeRegressor\n",
    "from sklearn.ensemble import RandomForestRegressor\n",
    "from sklearn.preprocessing import StandardScaler\n",
    "from sklearn.model_selection import cross_val_score\n",
    "from sklearn.metrics import make_scorer\n",
    "from sklearn.model_selection import RandomizedSearchCV"
   ]
  },
  {
   "cell_type": "code",
   "execution_count": 2,
   "metadata": {},
   "outputs": [],
   "source": [
    "full = pd.read_csv('/datasets/gold_recovery_full.csv')\n",
    "test = pd.read_csv('/datasets/gold_recovery_test.csv')\n",
    "train = pd.read_csv('/datasets/gold_recovery_train.csv')"
   ]
  },
  {
   "cell_type": "code",
   "execution_count": 3,
   "metadata": {},
   "outputs": [
    {
     "data": {
      "text/html": [
       "<div>\n",
       "<style scoped>\n",
       "    .dataframe tbody tr th:only-of-type {\n",
       "        vertical-align: middle;\n",
       "    }\n",
       "\n",
       "    .dataframe tbody tr th {\n",
       "        vertical-align: top;\n",
       "    }\n",
       "\n",
       "    .dataframe thead th {\n",
       "        text-align: right;\n",
       "    }\n",
       "</style>\n",
       "<table border=\"1\" class=\"dataframe\">\n",
       "  <thead>\n",
       "    <tr style=\"text-align: right;\">\n",
       "      <th></th>\n",
       "      <th>date</th>\n",
       "      <th>final.output.concentrate_ag</th>\n",
       "      <th>final.output.concentrate_pb</th>\n",
       "      <th>final.output.concentrate_sol</th>\n",
       "      <th>final.output.concentrate_au</th>\n",
       "      <th>final.output.recovery</th>\n",
       "      <th>final.output.tail_ag</th>\n",
       "      <th>final.output.tail_pb</th>\n",
       "      <th>final.output.tail_sol</th>\n",
       "      <th>final.output.tail_au</th>\n",
       "      <th>...</th>\n",
       "      <th>secondary_cleaner.state.floatbank4_a_air</th>\n",
       "      <th>secondary_cleaner.state.floatbank4_a_level</th>\n",
       "      <th>secondary_cleaner.state.floatbank4_b_air</th>\n",
       "      <th>secondary_cleaner.state.floatbank4_b_level</th>\n",
       "      <th>secondary_cleaner.state.floatbank5_a_air</th>\n",
       "      <th>secondary_cleaner.state.floatbank5_a_level</th>\n",
       "      <th>secondary_cleaner.state.floatbank5_b_air</th>\n",
       "      <th>secondary_cleaner.state.floatbank5_b_level</th>\n",
       "      <th>secondary_cleaner.state.floatbank6_a_air</th>\n",
       "      <th>secondary_cleaner.state.floatbank6_a_level</th>\n",
       "    </tr>\n",
       "  </thead>\n",
       "  <tbody>\n",
       "    <tr>\n",
       "      <td>0</td>\n",
       "      <td>2016-01-15 00:00:00</td>\n",
       "      <td>6.055403</td>\n",
       "      <td>9.889648</td>\n",
       "      <td>5.507324</td>\n",
       "      <td>42.192020</td>\n",
       "      <td>70.541216</td>\n",
       "      <td>10.411962</td>\n",
       "      <td>0.895447</td>\n",
       "      <td>16.904297</td>\n",
       "      <td>2.143149</td>\n",
       "      <td>...</td>\n",
       "      <td>14.016835</td>\n",
       "      <td>-502.488007</td>\n",
       "      <td>12.099931</td>\n",
       "      <td>-504.715942</td>\n",
       "      <td>9.925633</td>\n",
       "      <td>-498.310211</td>\n",
       "      <td>8.079666</td>\n",
       "      <td>-500.470978</td>\n",
       "      <td>14.151341</td>\n",
       "      <td>-605.841980</td>\n",
       "    </tr>\n",
       "    <tr>\n",
       "      <td>1</td>\n",
       "      <td>2016-01-15 01:00:00</td>\n",
       "      <td>6.029369</td>\n",
       "      <td>9.968944</td>\n",
       "      <td>5.257781</td>\n",
       "      <td>42.701629</td>\n",
       "      <td>69.266198</td>\n",
       "      <td>10.462676</td>\n",
       "      <td>0.927452</td>\n",
       "      <td>16.634514</td>\n",
       "      <td>2.224930</td>\n",
       "      <td>...</td>\n",
       "      <td>13.992281</td>\n",
       "      <td>-505.503262</td>\n",
       "      <td>11.950531</td>\n",
       "      <td>-501.331529</td>\n",
       "      <td>10.039245</td>\n",
       "      <td>-500.169983</td>\n",
       "      <td>7.984757</td>\n",
       "      <td>-500.582168</td>\n",
       "      <td>13.998353</td>\n",
       "      <td>-599.787184</td>\n",
       "    </tr>\n",
       "    <tr>\n",
       "      <td>2</td>\n",
       "      <td>2016-01-15 02:00:00</td>\n",
       "      <td>6.055926</td>\n",
       "      <td>10.213995</td>\n",
       "      <td>5.383759</td>\n",
       "      <td>42.657501</td>\n",
       "      <td>68.116445</td>\n",
       "      <td>10.507046</td>\n",
       "      <td>0.953716</td>\n",
       "      <td>16.208849</td>\n",
       "      <td>2.257889</td>\n",
       "      <td>...</td>\n",
       "      <td>14.015015</td>\n",
       "      <td>-502.520901</td>\n",
       "      <td>11.912783</td>\n",
       "      <td>-501.133383</td>\n",
       "      <td>10.070913</td>\n",
       "      <td>-500.129135</td>\n",
       "      <td>8.013877</td>\n",
       "      <td>-500.517572</td>\n",
       "      <td>14.028663</td>\n",
       "      <td>-601.427363</td>\n",
       "    </tr>\n",
       "    <tr>\n",
       "      <td>3</td>\n",
       "      <td>2016-01-15 03:00:00</td>\n",
       "      <td>6.047977</td>\n",
       "      <td>9.977019</td>\n",
       "      <td>4.858634</td>\n",
       "      <td>42.689819</td>\n",
       "      <td>68.347543</td>\n",
       "      <td>10.422762</td>\n",
       "      <td>0.883763</td>\n",
       "      <td>16.532835</td>\n",
       "      <td>2.146849</td>\n",
       "      <td>...</td>\n",
       "      <td>14.036510</td>\n",
       "      <td>-500.857308</td>\n",
       "      <td>11.999550</td>\n",
       "      <td>-501.193686</td>\n",
       "      <td>9.970366</td>\n",
       "      <td>-499.201640</td>\n",
       "      <td>7.977324</td>\n",
       "      <td>-500.255908</td>\n",
       "      <td>14.005551</td>\n",
       "      <td>-599.996129</td>\n",
       "    </tr>\n",
       "    <tr>\n",
       "      <td>4</td>\n",
       "      <td>2016-01-15 04:00:00</td>\n",
       "      <td>6.148599</td>\n",
       "      <td>10.142511</td>\n",
       "      <td>4.939416</td>\n",
       "      <td>42.774141</td>\n",
       "      <td>66.927016</td>\n",
       "      <td>10.360302</td>\n",
       "      <td>0.792826</td>\n",
       "      <td>16.525686</td>\n",
       "      <td>2.055292</td>\n",
       "      <td>...</td>\n",
       "      <td>14.027298</td>\n",
       "      <td>-499.838632</td>\n",
       "      <td>11.953070</td>\n",
       "      <td>-501.053894</td>\n",
       "      <td>9.925709</td>\n",
       "      <td>-501.686727</td>\n",
       "      <td>7.894242</td>\n",
       "      <td>-500.356035</td>\n",
       "      <td>13.996647</td>\n",
       "      <td>-601.496691</td>\n",
       "    </tr>\n",
       "  </tbody>\n",
       "</table>\n",
       "<p>5 rows × 87 columns</p>\n",
       "</div>"
      ],
      "text/plain": [
       "                  date  final.output.concentrate_ag  \\\n",
       "0  2016-01-15 00:00:00                     6.055403   \n",
       "1  2016-01-15 01:00:00                     6.029369   \n",
       "2  2016-01-15 02:00:00                     6.055926   \n",
       "3  2016-01-15 03:00:00                     6.047977   \n",
       "4  2016-01-15 04:00:00                     6.148599   \n",
       "\n",
       "   final.output.concentrate_pb  final.output.concentrate_sol  \\\n",
       "0                     9.889648                      5.507324   \n",
       "1                     9.968944                      5.257781   \n",
       "2                    10.213995                      5.383759   \n",
       "3                     9.977019                      4.858634   \n",
       "4                    10.142511                      4.939416   \n",
       "\n",
       "   final.output.concentrate_au  final.output.recovery  final.output.tail_ag  \\\n",
       "0                    42.192020              70.541216             10.411962   \n",
       "1                    42.701629              69.266198             10.462676   \n",
       "2                    42.657501              68.116445             10.507046   \n",
       "3                    42.689819              68.347543             10.422762   \n",
       "4                    42.774141              66.927016             10.360302   \n",
       "\n",
       "   final.output.tail_pb  final.output.tail_sol  final.output.tail_au  ...  \\\n",
       "0              0.895447              16.904297              2.143149  ...   \n",
       "1              0.927452              16.634514              2.224930  ...   \n",
       "2              0.953716              16.208849              2.257889  ...   \n",
       "3              0.883763              16.532835              2.146849  ...   \n",
       "4              0.792826              16.525686              2.055292  ...   \n",
       "\n",
       "   secondary_cleaner.state.floatbank4_a_air  \\\n",
       "0                                 14.016835   \n",
       "1                                 13.992281   \n",
       "2                                 14.015015   \n",
       "3                                 14.036510   \n",
       "4                                 14.027298   \n",
       "\n",
       "   secondary_cleaner.state.floatbank4_a_level  \\\n",
       "0                                 -502.488007   \n",
       "1                                 -505.503262   \n",
       "2                                 -502.520901   \n",
       "3                                 -500.857308   \n",
       "4                                 -499.838632   \n",
       "\n",
       "   secondary_cleaner.state.floatbank4_b_air  \\\n",
       "0                                 12.099931   \n",
       "1                                 11.950531   \n",
       "2                                 11.912783   \n",
       "3                                 11.999550   \n",
       "4                                 11.953070   \n",
       "\n",
       "   secondary_cleaner.state.floatbank4_b_level  \\\n",
       "0                                 -504.715942   \n",
       "1                                 -501.331529   \n",
       "2                                 -501.133383   \n",
       "3                                 -501.193686   \n",
       "4                                 -501.053894   \n",
       "\n",
       "   secondary_cleaner.state.floatbank5_a_air  \\\n",
       "0                                  9.925633   \n",
       "1                                 10.039245   \n",
       "2                                 10.070913   \n",
       "3                                  9.970366   \n",
       "4                                  9.925709   \n",
       "\n",
       "   secondary_cleaner.state.floatbank5_a_level  \\\n",
       "0                                 -498.310211   \n",
       "1                                 -500.169983   \n",
       "2                                 -500.129135   \n",
       "3                                 -499.201640   \n",
       "4                                 -501.686727   \n",
       "\n",
       "   secondary_cleaner.state.floatbank5_b_air  \\\n",
       "0                                  8.079666   \n",
       "1                                  7.984757   \n",
       "2                                  8.013877   \n",
       "3                                  7.977324   \n",
       "4                                  7.894242   \n",
       "\n",
       "   secondary_cleaner.state.floatbank5_b_level  \\\n",
       "0                                 -500.470978   \n",
       "1                                 -500.582168   \n",
       "2                                 -500.517572   \n",
       "3                                 -500.255908   \n",
       "4                                 -500.356035   \n",
       "\n",
       "   secondary_cleaner.state.floatbank6_a_air  \\\n",
       "0                                 14.151341   \n",
       "1                                 13.998353   \n",
       "2                                 14.028663   \n",
       "3                                 14.005551   \n",
       "4                                 13.996647   \n",
       "\n",
       "   secondary_cleaner.state.floatbank6_a_level  \n",
       "0                                 -605.841980  \n",
       "1                                 -599.787184  \n",
       "2                                 -601.427363  \n",
       "3                                 -599.996129  \n",
       "4                                 -601.496691  \n",
       "\n",
       "[5 rows x 87 columns]"
      ]
     },
     "metadata": {},
     "output_type": "display_data"
    },
    {
     "name": "stdout",
     "output_type": "stream",
     "text": [
      "<class 'pandas.core.frame.DataFrame'>\n",
      "RangeIndex: 22716 entries, 0 to 22715\n",
      "Data columns (total 87 columns):\n",
      "date                                                  22716 non-null object\n",
      "final.output.concentrate_ag                           22627 non-null float64\n",
      "final.output.concentrate_pb                           22629 non-null float64\n",
      "final.output.concentrate_sol                          22331 non-null float64\n",
      "final.output.concentrate_au                           22630 non-null float64\n",
      "final.output.recovery                                 20753 non-null float64\n",
      "final.output.tail_ag                                  22633 non-null float64\n",
      "final.output.tail_pb                                  22516 non-null float64\n",
      "final.output.tail_sol                                 22445 non-null float64\n",
      "final.output.tail_au                                  22635 non-null float64\n",
      "primary_cleaner.input.sulfate                         21107 non-null float64\n",
      "primary_cleaner.input.depressant                      21170 non-null float64\n",
      "primary_cleaner.input.feed_size                       22716 non-null float64\n",
      "primary_cleaner.input.xanthate                        21565 non-null float64\n",
      "primary_cleaner.output.concentrate_ag                 22618 non-null float64\n",
      "primary_cleaner.output.concentrate_pb                 22268 non-null float64\n",
      "primary_cleaner.output.concentrate_sol                21918 non-null float64\n",
      "primary_cleaner.output.concentrate_au                 22618 non-null float64\n",
      "primary_cleaner.output.tail_ag                        22614 non-null float64\n",
      "primary_cleaner.output.tail_pb                        22594 non-null float64\n",
      "primary_cleaner.output.tail_sol                       22365 non-null float64\n",
      "primary_cleaner.output.tail_au                        22617 non-null float64\n",
      "primary_cleaner.state.floatbank8_a_air                22660 non-null float64\n",
      "primary_cleaner.state.floatbank8_a_level              22667 non-null float64\n",
      "primary_cleaner.state.floatbank8_b_air                22660 non-null float64\n",
      "primary_cleaner.state.floatbank8_b_level              22673 non-null float64\n",
      "primary_cleaner.state.floatbank8_c_air                22662 non-null float64\n",
      "primary_cleaner.state.floatbank8_c_level              22673 non-null float64\n",
      "primary_cleaner.state.floatbank8_d_air                22661 non-null float64\n",
      "primary_cleaner.state.floatbank8_d_level              22673 non-null float64\n",
      "rougher.calculation.sulfate_to_au_concentrate         22672 non-null float64\n",
      "rougher.calculation.floatbank10_sulfate_to_au_feed    22672 non-null float64\n",
      "rougher.calculation.floatbank11_sulfate_to_au_feed    22672 non-null float64\n",
      "rougher.calculation.au_pb_ratio                       21089 non-null float64\n",
      "rougher.input.feed_ag                                 22618 non-null float64\n",
      "rougher.input.feed_pb                                 22472 non-null float64\n",
      "rougher.input.feed_rate                               22163 non-null float64\n",
      "rougher.input.feed_size                               22277 non-null float64\n",
      "rougher.input.feed_sol                                22357 non-null float64\n",
      "rougher.input.feed_au                                 22617 non-null float64\n",
      "rougher.input.floatbank10_sulfate                     21415 non-null float64\n",
      "rougher.input.floatbank10_xanthate                    22247 non-null float64\n",
      "rougher.input.floatbank11_sulfate                     22038 non-null float64\n",
      "rougher.input.floatbank11_xanthate                    20459 non-null float64\n",
      "rougher.output.concentrate_ag                         22618 non-null float64\n",
      "rougher.output.concentrate_pb                         22618 non-null float64\n",
      "rougher.output.concentrate_sol                        22526 non-null float64\n",
      "rougher.output.concentrate_au                         22618 non-null float64\n",
      "rougher.output.recovery                               19597 non-null float64\n",
      "rougher.output.tail_ag                                19979 non-null float64\n",
      "rougher.output.tail_pb                                22618 non-null float64\n",
      "rougher.output.tail_sol                               19980 non-null float64\n",
      "rougher.output.tail_au                                19980 non-null float64\n",
      "rougher.state.floatbank10_a_air                       22646 non-null float64\n",
      "rougher.state.floatbank10_a_level                     22647 non-null float64\n",
      "rougher.state.floatbank10_b_air                       22646 non-null float64\n",
      "rougher.state.floatbank10_b_level                     22647 non-null float64\n",
      "rougher.state.floatbank10_c_air                       22646 non-null float64\n",
      "rougher.state.floatbank10_c_level                     22654 non-null float64\n",
      "rougher.state.floatbank10_d_air                       22641 non-null float64\n",
      "rougher.state.floatbank10_d_level                     22649 non-null float64\n",
      "rougher.state.floatbank10_e_air                       22096 non-null float64\n",
      "rougher.state.floatbank10_e_level                     22649 non-null float64\n",
      "rougher.state.floatbank10_f_air                       22641 non-null float64\n",
      "rougher.state.floatbank10_f_level                     22642 non-null float64\n",
      "secondary_cleaner.output.tail_ag                      22616 non-null float64\n",
      "secondary_cleaner.output.tail_pb                      22600 non-null float64\n",
      "secondary_cleaner.output.tail_sol                     20501 non-null float64\n",
      "secondary_cleaner.output.tail_au                      22618 non-null float64\n",
      "secondary_cleaner.state.floatbank2_a_air              22333 non-null float64\n",
      "secondary_cleaner.state.floatbank2_a_level            22591 non-null float64\n",
      "secondary_cleaner.state.floatbank2_b_air              22538 non-null float64\n",
      "secondary_cleaner.state.floatbank2_b_level            22588 non-null float64\n",
      "secondary_cleaner.state.floatbank3_a_air              22585 non-null float64\n",
      "secondary_cleaner.state.floatbank3_a_level            22587 non-null float64\n",
      "secondary_cleaner.state.floatbank3_b_air              22592 non-null float64\n",
      "secondary_cleaner.state.floatbank3_b_level            22590 non-null float64\n",
      "secondary_cleaner.state.floatbank4_a_air              22571 non-null float64\n",
      "secondary_cleaner.state.floatbank4_a_level            22587 non-null float64\n",
      "secondary_cleaner.state.floatbank4_b_air              22608 non-null float64\n",
      "secondary_cleaner.state.floatbank4_b_level            22607 non-null float64\n",
      "secondary_cleaner.state.floatbank5_a_air              22615 non-null float64\n",
      "secondary_cleaner.state.floatbank5_a_level            22615 non-null float64\n",
      "secondary_cleaner.state.floatbank5_b_air              22615 non-null float64\n",
      "secondary_cleaner.state.floatbank5_b_level            22616 non-null float64\n",
      "secondary_cleaner.state.floatbank6_a_air              22597 non-null float64\n",
      "secondary_cleaner.state.floatbank6_a_level            22615 non-null float64\n",
      "dtypes: float64(86), object(1)\n",
      "memory usage: 15.1+ MB\n",
      "None\n",
      "\n",
      "----------------------------------------------------------------\n",
      "\n"
     ]
    },
    {
     "data": {
      "text/html": [
       "<div>\n",
       "<style scoped>\n",
       "    .dataframe tbody tr th:only-of-type {\n",
       "        vertical-align: middle;\n",
       "    }\n",
       "\n",
       "    .dataframe tbody tr th {\n",
       "        vertical-align: top;\n",
       "    }\n",
       "\n",
       "    .dataframe thead th {\n",
       "        text-align: right;\n",
       "    }\n",
       "</style>\n",
       "<table border=\"1\" class=\"dataframe\">\n",
       "  <thead>\n",
       "    <tr style=\"text-align: right;\">\n",
       "      <th></th>\n",
       "      <th>date</th>\n",
       "      <th>primary_cleaner.input.sulfate</th>\n",
       "      <th>primary_cleaner.input.depressant</th>\n",
       "      <th>primary_cleaner.input.feed_size</th>\n",
       "      <th>primary_cleaner.input.xanthate</th>\n",
       "      <th>primary_cleaner.state.floatbank8_a_air</th>\n",
       "      <th>primary_cleaner.state.floatbank8_a_level</th>\n",
       "      <th>primary_cleaner.state.floatbank8_b_air</th>\n",
       "      <th>primary_cleaner.state.floatbank8_b_level</th>\n",
       "      <th>primary_cleaner.state.floatbank8_c_air</th>\n",
       "      <th>...</th>\n",
       "      <th>secondary_cleaner.state.floatbank4_a_air</th>\n",
       "      <th>secondary_cleaner.state.floatbank4_a_level</th>\n",
       "      <th>secondary_cleaner.state.floatbank4_b_air</th>\n",
       "      <th>secondary_cleaner.state.floatbank4_b_level</th>\n",
       "      <th>secondary_cleaner.state.floatbank5_a_air</th>\n",
       "      <th>secondary_cleaner.state.floatbank5_a_level</th>\n",
       "      <th>secondary_cleaner.state.floatbank5_b_air</th>\n",
       "      <th>secondary_cleaner.state.floatbank5_b_level</th>\n",
       "      <th>secondary_cleaner.state.floatbank6_a_air</th>\n",
       "      <th>secondary_cleaner.state.floatbank6_a_level</th>\n",
       "    </tr>\n",
       "  </thead>\n",
       "  <tbody>\n",
       "    <tr>\n",
       "      <td>0</td>\n",
       "      <td>2016-09-01 00:59:59</td>\n",
       "      <td>210.800909</td>\n",
       "      <td>14.993118</td>\n",
       "      <td>8.080000</td>\n",
       "      <td>1.005021</td>\n",
       "      <td>1398.981301</td>\n",
       "      <td>-500.225577</td>\n",
       "      <td>1399.144926</td>\n",
       "      <td>-499.919735</td>\n",
       "      <td>1400.102998</td>\n",
       "      <td>...</td>\n",
       "      <td>12.023554</td>\n",
       "      <td>-497.795834</td>\n",
       "      <td>8.016656</td>\n",
       "      <td>-501.289139</td>\n",
       "      <td>7.946562</td>\n",
       "      <td>-432.317850</td>\n",
       "      <td>4.872511</td>\n",
       "      <td>-500.037437</td>\n",
       "      <td>26.705889</td>\n",
       "      <td>-499.709414</td>\n",
       "    </tr>\n",
       "    <tr>\n",
       "      <td>1</td>\n",
       "      <td>2016-09-01 01:59:59</td>\n",
       "      <td>215.392455</td>\n",
       "      <td>14.987471</td>\n",
       "      <td>8.080000</td>\n",
       "      <td>0.990469</td>\n",
       "      <td>1398.777912</td>\n",
       "      <td>-500.057435</td>\n",
       "      <td>1398.055362</td>\n",
       "      <td>-499.778182</td>\n",
       "      <td>1396.151033</td>\n",
       "      <td>...</td>\n",
       "      <td>12.058140</td>\n",
       "      <td>-498.695773</td>\n",
       "      <td>8.130979</td>\n",
       "      <td>-499.634209</td>\n",
       "      <td>7.958270</td>\n",
       "      <td>-525.839648</td>\n",
       "      <td>4.878850</td>\n",
       "      <td>-500.162375</td>\n",
       "      <td>25.019940</td>\n",
       "      <td>-499.819438</td>\n",
       "    </tr>\n",
       "    <tr>\n",
       "      <td>2</td>\n",
       "      <td>2016-09-01 02:59:59</td>\n",
       "      <td>215.259946</td>\n",
       "      <td>12.884934</td>\n",
       "      <td>7.786667</td>\n",
       "      <td>0.996043</td>\n",
       "      <td>1398.493666</td>\n",
       "      <td>-500.868360</td>\n",
       "      <td>1398.860436</td>\n",
       "      <td>-499.764529</td>\n",
       "      <td>1398.075709</td>\n",
       "      <td>...</td>\n",
       "      <td>11.962366</td>\n",
       "      <td>-498.767484</td>\n",
       "      <td>8.096893</td>\n",
       "      <td>-500.827423</td>\n",
       "      <td>8.071056</td>\n",
       "      <td>-500.801673</td>\n",
       "      <td>4.905125</td>\n",
       "      <td>-499.828510</td>\n",
       "      <td>24.994862</td>\n",
       "      <td>-500.622559</td>\n",
       "    </tr>\n",
       "    <tr>\n",
       "      <td>3</td>\n",
       "      <td>2016-09-01 03:59:59</td>\n",
       "      <td>215.336236</td>\n",
       "      <td>12.006805</td>\n",
       "      <td>7.640000</td>\n",
       "      <td>0.863514</td>\n",
       "      <td>1399.618111</td>\n",
       "      <td>-498.863574</td>\n",
       "      <td>1397.440120</td>\n",
       "      <td>-499.211024</td>\n",
       "      <td>1400.129303</td>\n",
       "      <td>...</td>\n",
       "      <td>12.033091</td>\n",
       "      <td>-498.350935</td>\n",
       "      <td>8.074946</td>\n",
       "      <td>-499.474407</td>\n",
       "      <td>7.897085</td>\n",
       "      <td>-500.868509</td>\n",
       "      <td>4.931400</td>\n",
       "      <td>-499.963623</td>\n",
       "      <td>24.948919</td>\n",
       "      <td>-498.709987</td>\n",
       "    </tr>\n",
       "    <tr>\n",
       "      <td>4</td>\n",
       "      <td>2016-09-01 04:59:59</td>\n",
       "      <td>199.099327</td>\n",
       "      <td>10.682530</td>\n",
       "      <td>7.530000</td>\n",
       "      <td>0.805575</td>\n",
       "      <td>1401.268123</td>\n",
       "      <td>-500.808305</td>\n",
       "      <td>1398.128818</td>\n",
       "      <td>-499.504543</td>\n",
       "      <td>1402.172226</td>\n",
       "      <td>...</td>\n",
       "      <td>12.025367</td>\n",
       "      <td>-500.786497</td>\n",
       "      <td>8.054678</td>\n",
       "      <td>-500.397500</td>\n",
       "      <td>8.107890</td>\n",
       "      <td>-509.526725</td>\n",
       "      <td>4.957674</td>\n",
       "      <td>-500.360026</td>\n",
       "      <td>25.003331</td>\n",
       "      <td>-500.856333</td>\n",
       "    </tr>\n",
       "  </tbody>\n",
       "</table>\n",
       "<p>5 rows × 53 columns</p>\n",
       "</div>"
      ],
      "text/plain": [
       "                  date  primary_cleaner.input.sulfate  \\\n",
       "0  2016-09-01 00:59:59                     210.800909   \n",
       "1  2016-09-01 01:59:59                     215.392455   \n",
       "2  2016-09-01 02:59:59                     215.259946   \n",
       "3  2016-09-01 03:59:59                     215.336236   \n",
       "4  2016-09-01 04:59:59                     199.099327   \n",
       "\n",
       "   primary_cleaner.input.depressant  primary_cleaner.input.feed_size  \\\n",
       "0                         14.993118                         8.080000   \n",
       "1                         14.987471                         8.080000   \n",
       "2                         12.884934                         7.786667   \n",
       "3                         12.006805                         7.640000   \n",
       "4                         10.682530                         7.530000   \n",
       "\n",
       "   primary_cleaner.input.xanthate  primary_cleaner.state.floatbank8_a_air  \\\n",
       "0                        1.005021                             1398.981301   \n",
       "1                        0.990469                             1398.777912   \n",
       "2                        0.996043                             1398.493666   \n",
       "3                        0.863514                             1399.618111   \n",
       "4                        0.805575                             1401.268123   \n",
       "\n",
       "   primary_cleaner.state.floatbank8_a_level  \\\n",
       "0                               -500.225577   \n",
       "1                               -500.057435   \n",
       "2                               -500.868360   \n",
       "3                               -498.863574   \n",
       "4                               -500.808305   \n",
       "\n",
       "   primary_cleaner.state.floatbank8_b_air  \\\n",
       "0                             1399.144926   \n",
       "1                             1398.055362   \n",
       "2                             1398.860436   \n",
       "3                             1397.440120   \n",
       "4                             1398.128818   \n",
       "\n",
       "   primary_cleaner.state.floatbank8_b_level  \\\n",
       "0                               -499.919735   \n",
       "1                               -499.778182   \n",
       "2                               -499.764529   \n",
       "3                               -499.211024   \n",
       "4                               -499.504543   \n",
       "\n",
       "   primary_cleaner.state.floatbank8_c_air  ...  \\\n",
       "0                             1400.102998  ...   \n",
       "1                             1396.151033  ...   \n",
       "2                             1398.075709  ...   \n",
       "3                             1400.129303  ...   \n",
       "4                             1402.172226  ...   \n",
       "\n",
       "   secondary_cleaner.state.floatbank4_a_air  \\\n",
       "0                                 12.023554   \n",
       "1                                 12.058140   \n",
       "2                                 11.962366   \n",
       "3                                 12.033091   \n",
       "4                                 12.025367   \n",
       "\n",
       "   secondary_cleaner.state.floatbank4_a_level  \\\n",
       "0                                 -497.795834   \n",
       "1                                 -498.695773   \n",
       "2                                 -498.767484   \n",
       "3                                 -498.350935   \n",
       "4                                 -500.786497   \n",
       "\n",
       "   secondary_cleaner.state.floatbank4_b_air  \\\n",
       "0                                  8.016656   \n",
       "1                                  8.130979   \n",
       "2                                  8.096893   \n",
       "3                                  8.074946   \n",
       "4                                  8.054678   \n",
       "\n",
       "   secondary_cleaner.state.floatbank4_b_level  \\\n",
       "0                                 -501.289139   \n",
       "1                                 -499.634209   \n",
       "2                                 -500.827423   \n",
       "3                                 -499.474407   \n",
       "4                                 -500.397500   \n",
       "\n",
       "   secondary_cleaner.state.floatbank5_a_air  \\\n",
       "0                                  7.946562   \n",
       "1                                  7.958270   \n",
       "2                                  8.071056   \n",
       "3                                  7.897085   \n",
       "4                                  8.107890   \n",
       "\n",
       "   secondary_cleaner.state.floatbank5_a_level  \\\n",
       "0                                 -432.317850   \n",
       "1                                 -525.839648   \n",
       "2                                 -500.801673   \n",
       "3                                 -500.868509   \n",
       "4                                 -509.526725   \n",
       "\n",
       "   secondary_cleaner.state.floatbank5_b_air  \\\n",
       "0                                  4.872511   \n",
       "1                                  4.878850   \n",
       "2                                  4.905125   \n",
       "3                                  4.931400   \n",
       "4                                  4.957674   \n",
       "\n",
       "   secondary_cleaner.state.floatbank5_b_level  \\\n",
       "0                                 -500.037437   \n",
       "1                                 -500.162375   \n",
       "2                                 -499.828510   \n",
       "3                                 -499.963623   \n",
       "4                                 -500.360026   \n",
       "\n",
       "   secondary_cleaner.state.floatbank6_a_air  \\\n",
       "0                                 26.705889   \n",
       "1                                 25.019940   \n",
       "2                                 24.994862   \n",
       "3                                 24.948919   \n",
       "4                                 25.003331   \n",
       "\n",
       "   secondary_cleaner.state.floatbank6_a_level  \n",
       "0                                 -499.709414  \n",
       "1                                 -499.819438  \n",
       "2                                 -500.622559  \n",
       "3                                 -498.709987  \n",
       "4                                 -500.856333  \n",
       "\n",
       "[5 rows x 53 columns]"
      ]
     },
     "metadata": {},
     "output_type": "display_data"
    },
    {
     "name": "stdout",
     "output_type": "stream",
     "text": [
      "<class 'pandas.core.frame.DataFrame'>\n",
      "RangeIndex: 5856 entries, 0 to 5855\n",
      "Data columns (total 53 columns):\n",
      "date                                          5856 non-null object\n",
      "primary_cleaner.input.sulfate                 5554 non-null float64\n",
      "primary_cleaner.input.depressant              5572 non-null float64\n",
      "primary_cleaner.input.feed_size               5856 non-null float64\n",
      "primary_cleaner.input.xanthate                5690 non-null float64\n",
      "primary_cleaner.state.floatbank8_a_air        5840 non-null float64\n",
      "primary_cleaner.state.floatbank8_a_level      5840 non-null float64\n",
      "primary_cleaner.state.floatbank8_b_air        5840 non-null float64\n",
      "primary_cleaner.state.floatbank8_b_level      5840 non-null float64\n",
      "primary_cleaner.state.floatbank8_c_air        5840 non-null float64\n",
      "primary_cleaner.state.floatbank8_c_level      5840 non-null float64\n",
      "primary_cleaner.state.floatbank8_d_air        5840 non-null float64\n",
      "primary_cleaner.state.floatbank8_d_level      5840 non-null float64\n",
      "rougher.input.feed_ag                         5840 non-null float64\n",
      "rougher.input.feed_pb                         5840 non-null float64\n",
      "rougher.input.feed_rate                       5816 non-null float64\n",
      "rougher.input.feed_size                       5834 non-null float64\n",
      "rougher.input.feed_sol                        5789 non-null float64\n",
      "rougher.input.feed_au                         5840 non-null float64\n",
      "rougher.input.floatbank10_sulfate             5599 non-null float64\n",
      "rougher.input.floatbank10_xanthate            5733 non-null float64\n",
      "rougher.input.floatbank11_sulfate             5801 non-null float64\n",
      "rougher.input.floatbank11_xanthate            5503 non-null float64\n",
      "rougher.state.floatbank10_a_air               5839 non-null float64\n",
      "rougher.state.floatbank10_a_level             5840 non-null float64\n",
      "rougher.state.floatbank10_b_air               5839 non-null float64\n",
      "rougher.state.floatbank10_b_level             5840 non-null float64\n",
      "rougher.state.floatbank10_c_air               5839 non-null float64\n",
      "rougher.state.floatbank10_c_level             5840 non-null float64\n",
      "rougher.state.floatbank10_d_air               5839 non-null float64\n",
      "rougher.state.floatbank10_d_level             5840 non-null float64\n",
      "rougher.state.floatbank10_e_air               5839 non-null float64\n",
      "rougher.state.floatbank10_e_level             5840 non-null float64\n",
      "rougher.state.floatbank10_f_air               5839 non-null float64\n",
      "rougher.state.floatbank10_f_level             5840 non-null float64\n",
      "secondary_cleaner.state.floatbank2_a_air      5836 non-null float64\n",
      "secondary_cleaner.state.floatbank2_a_level    5840 non-null float64\n",
      "secondary_cleaner.state.floatbank2_b_air      5833 non-null float64\n",
      "secondary_cleaner.state.floatbank2_b_level    5840 non-null float64\n",
      "secondary_cleaner.state.floatbank3_a_air      5822 non-null float64\n",
      "secondary_cleaner.state.floatbank3_a_level    5840 non-null float64\n",
      "secondary_cleaner.state.floatbank3_b_air      5840 non-null float64\n",
      "secondary_cleaner.state.floatbank3_b_level    5840 non-null float64\n",
      "secondary_cleaner.state.floatbank4_a_air      5840 non-null float64\n",
      "secondary_cleaner.state.floatbank4_a_level    5840 non-null float64\n",
      "secondary_cleaner.state.floatbank4_b_air      5840 non-null float64\n",
      "secondary_cleaner.state.floatbank4_b_level    5840 non-null float64\n",
      "secondary_cleaner.state.floatbank5_a_air      5840 non-null float64\n",
      "secondary_cleaner.state.floatbank5_a_level    5840 non-null float64\n",
      "secondary_cleaner.state.floatbank5_b_air      5840 non-null float64\n",
      "secondary_cleaner.state.floatbank5_b_level    5840 non-null float64\n",
      "secondary_cleaner.state.floatbank6_a_air      5840 non-null float64\n",
      "secondary_cleaner.state.floatbank6_a_level    5840 non-null float64\n",
      "dtypes: float64(52), object(1)\n",
      "memory usage: 2.4+ MB\n",
      "None\n",
      "\n",
      "----------------------------------------------------------------\n",
      "\n"
     ]
    },
    {
     "data": {
      "text/html": [
       "<div>\n",
       "<style scoped>\n",
       "    .dataframe tbody tr th:only-of-type {\n",
       "        vertical-align: middle;\n",
       "    }\n",
       "\n",
       "    .dataframe tbody tr th {\n",
       "        vertical-align: top;\n",
       "    }\n",
       "\n",
       "    .dataframe thead th {\n",
       "        text-align: right;\n",
       "    }\n",
       "</style>\n",
       "<table border=\"1\" class=\"dataframe\">\n",
       "  <thead>\n",
       "    <tr style=\"text-align: right;\">\n",
       "      <th></th>\n",
       "      <th>date</th>\n",
       "      <th>final.output.concentrate_ag</th>\n",
       "      <th>final.output.concentrate_pb</th>\n",
       "      <th>final.output.concentrate_sol</th>\n",
       "      <th>final.output.concentrate_au</th>\n",
       "      <th>final.output.recovery</th>\n",
       "      <th>final.output.tail_ag</th>\n",
       "      <th>final.output.tail_pb</th>\n",
       "      <th>final.output.tail_sol</th>\n",
       "      <th>final.output.tail_au</th>\n",
       "      <th>...</th>\n",
       "      <th>secondary_cleaner.state.floatbank4_a_air</th>\n",
       "      <th>secondary_cleaner.state.floatbank4_a_level</th>\n",
       "      <th>secondary_cleaner.state.floatbank4_b_air</th>\n",
       "      <th>secondary_cleaner.state.floatbank4_b_level</th>\n",
       "      <th>secondary_cleaner.state.floatbank5_a_air</th>\n",
       "      <th>secondary_cleaner.state.floatbank5_a_level</th>\n",
       "      <th>secondary_cleaner.state.floatbank5_b_air</th>\n",
       "      <th>secondary_cleaner.state.floatbank5_b_level</th>\n",
       "      <th>secondary_cleaner.state.floatbank6_a_air</th>\n",
       "      <th>secondary_cleaner.state.floatbank6_a_level</th>\n",
       "    </tr>\n",
       "  </thead>\n",
       "  <tbody>\n",
       "    <tr>\n",
       "      <td>0</td>\n",
       "      <td>2016-01-15 00:00:00</td>\n",
       "      <td>6.055403</td>\n",
       "      <td>9.889648</td>\n",
       "      <td>5.507324</td>\n",
       "      <td>42.192020</td>\n",
       "      <td>70.541216</td>\n",
       "      <td>10.411962</td>\n",
       "      <td>0.895447</td>\n",
       "      <td>16.904297</td>\n",
       "      <td>2.143149</td>\n",
       "      <td>...</td>\n",
       "      <td>14.016835</td>\n",
       "      <td>-502.488007</td>\n",
       "      <td>12.099931</td>\n",
       "      <td>-504.715942</td>\n",
       "      <td>9.925633</td>\n",
       "      <td>-498.310211</td>\n",
       "      <td>8.079666</td>\n",
       "      <td>-500.470978</td>\n",
       "      <td>14.151341</td>\n",
       "      <td>-605.841980</td>\n",
       "    </tr>\n",
       "    <tr>\n",
       "      <td>1</td>\n",
       "      <td>2016-01-15 01:00:00</td>\n",
       "      <td>6.029369</td>\n",
       "      <td>9.968944</td>\n",
       "      <td>5.257781</td>\n",
       "      <td>42.701629</td>\n",
       "      <td>69.266198</td>\n",
       "      <td>10.462676</td>\n",
       "      <td>0.927452</td>\n",
       "      <td>16.634514</td>\n",
       "      <td>2.224930</td>\n",
       "      <td>...</td>\n",
       "      <td>13.992281</td>\n",
       "      <td>-505.503262</td>\n",
       "      <td>11.950531</td>\n",
       "      <td>-501.331529</td>\n",
       "      <td>10.039245</td>\n",
       "      <td>-500.169983</td>\n",
       "      <td>7.984757</td>\n",
       "      <td>-500.582168</td>\n",
       "      <td>13.998353</td>\n",
       "      <td>-599.787184</td>\n",
       "    </tr>\n",
       "    <tr>\n",
       "      <td>2</td>\n",
       "      <td>2016-01-15 02:00:00</td>\n",
       "      <td>6.055926</td>\n",
       "      <td>10.213995</td>\n",
       "      <td>5.383759</td>\n",
       "      <td>42.657501</td>\n",
       "      <td>68.116445</td>\n",
       "      <td>10.507046</td>\n",
       "      <td>0.953716</td>\n",
       "      <td>16.208849</td>\n",
       "      <td>2.257889</td>\n",
       "      <td>...</td>\n",
       "      <td>14.015015</td>\n",
       "      <td>-502.520901</td>\n",
       "      <td>11.912783</td>\n",
       "      <td>-501.133383</td>\n",
       "      <td>10.070913</td>\n",
       "      <td>-500.129135</td>\n",
       "      <td>8.013877</td>\n",
       "      <td>-500.517572</td>\n",
       "      <td>14.028663</td>\n",
       "      <td>-601.427363</td>\n",
       "    </tr>\n",
       "    <tr>\n",
       "      <td>3</td>\n",
       "      <td>2016-01-15 03:00:00</td>\n",
       "      <td>6.047977</td>\n",
       "      <td>9.977019</td>\n",
       "      <td>4.858634</td>\n",
       "      <td>42.689819</td>\n",
       "      <td>68.347543</td>\n",
       "      <td>10.422762</td>\n",
       "      <td>0.883763</td>\n",
       "      <td>16.532835</td>\n",
       "      <td>2.146849</td>\n",
       "      <td>...</td>\n",
       "      <td>14.036510</td>\n",
       "      <td>-500.857308</td>\n",
       "      <td>11.999550</td>\n",
       "      <td>-501.193686</td>\n",
       "      <td>9.970366</td>\n",
       "      <td>-499.201640</td>\n",
       "      <td>7.977324</td>\n",
       "      <td>-500.255908</td>\n",
       "      <td>14.005551</td>\n",
       "      <td>-599.996129</td>\n",
       "    </tr>\n",
       "    <tr>\n",
       "      <td>4</td>\n",
       "      <td>2016-01-15 04:00:00</td>\n",
       "      <td>6.148599</td>\n",
       "      <td>10.142511</td>\n",
       "      <td>4.939416</td>\n",
       "      <td>42.774141</td>\n",
       "      <td>66.927016</td>\n",
       "      <td>10.360302</td>\n",
       "      <td>0.792826</td>\n",
       "      <td>16.525686</td>\n",
       "      <td>2.055292</td>\n",
       "      <td>...</td>\n",
       "      <td>14.027298</td>\n",
       "      <td>-499.838632</td>\n",
       "      <td>11.953070</td>\n",
       "      <td>-501.053894</td>\n",
       "      <td>9.925709</td>\n",
       "      <td>-501.686727</td>\n",
       "      <td>7.894242</td>\n",
       "      <td>-500.356035</td>\n",
       "      <td>13.996647</td>\n",
       "      <td>-601.496691</td>\n",
       "    </tr>\n",
       "  </tbody>\n",
       "</table>\n",
       "<p>5 rows × 87 columns</p>\n",
       "</div>"
      ],
      "text/plain": [
       "                  date  final.output.concentrate_ag  \\\n",
       "0  2016-01-15 00:00:00                     6.055403   \n",
       "1  2016-01-15 01:00:00                     6.029369   \n",
       "2  2016-01-15 02:00:00                     6.055926   \n",
       "3  2016-01-15 03:00:00                     6.047977   \n",
       "4  2016-01-15 04:00:00                     6.148599   \n",
       "\n",
       "   final.output.concentrate_pb  final.output.concentrate_sol  \\\n",
       "0                     9.889648                      5.507324   \n",
       "1                     9.968944                      5.257781   \n",
       "2                    10.213995                      5.383759   \n",
       "3                     9.977019                      4.858634   \n",
       "4                    10.142511                      4.939416   \n",
       "\n",
       "   final.output.concentrate_au  final.output.recovery  final.output.tail_ag  \\\n",
       "0                    42.192020              70.541216             10.411962   \n",
       "1                    42.701629              69.266198             10.462676   \n",
       "2                    42.657501              68.116445             10.507046   \n",
       "3                    42.689819              68.347543             10.422762   \n",
       "4                    42.774141              66.927016             10.360302   \n",
       "\n",
       "   final.output.tail_pb  final.output.tail_sol  final.output.tail_au  ...  \\\n",
       "0              0.895447              16.904297              2.143149  ...   \n",
       "1              0.927452              16.634514              2.224930  ...   \n",
       "2              0.953716              16.208849              2.257889  ...   \n",
       "3              0.883763              16.532835              2.146849  ...   \n",
       "4              0.792826              16.525686              2.055292  ...   \n",
       "\n",
       "   secondary_cleaner.state.floatbank4_a_air  \\\n",
       "0                                 14.016835   \n",
       "1                                 13.992281   \n",
       "2                                 14.015015   \n",
       "3                                 14.036510   \n",
       "4                                 14.027298   \n",
       "\n",
       "   secondary_cleaner.state.floatbank4_a_level  \\\n",
       "0                                 -502.488007   \n",
       "1                                 -505.503262   \n",
       "2                                 -502.520901   \n",
       "3                                 -500.857308   \n",
       "4                                 -499.838632   \n",
       "\n",
       "   secondary_cleaner.state.floatbank4_b_air  \\\n",
       "0                                 12.099931   \n",
       "1                                 11.950531   \n",
       "2                                 11.912783   \n",
       "3                                 11.999550   \n",
       "4                                 11.953070   \n",
       "\n",
       "   secondary_cleaner.state.floatbank4_b_level  \\\n",
       "0                                 -504.715942   \n",
       "1                                 -501.331529   \n",
       "2                                 -501.133383   \n",
       "3                                 -501.193686   \n",
       "4                                 -501.053894   \n",
       "\n",
       "   secondary_cleaner.state.floatbank5_a_air  \\\n",
       "0                                  9.925633   \n",
       "1                                 10.039245   \n",
       "2                                 10.070913   \n",
       "3                                  9.970366   \n",
       "4                                  9.925709   \n",
       "\n",
       "   secondary_cleaner.state.floatbank5_a_level  \\\n",
       "0                                 -498.310211   \n",
       "1                                 -500.169983   \n",
       "2                                 -500.129135   \n",
       "3                                 -499.201640   \n",
       "4                                 -501.686727   \n",
       "\n",
       "   secondary_cleaner.state.floatbank5_b_air  \\\n",
       "0                                  8.079666   \n",
       "1                                  7.984757   \n",
       "2                                  8.013877   \n",
       "3                                  7.977324   \n",
       "4                                  7.894242   \n",
       "\n",
       "   secondary_cleaner.state.floatbank5_b_level  \\\n",
       "0                                 -500.470978   \n",
       "1                                 -500.582168   \n",
       "2                                 -500.517572   \n",
       "3                                 -500.255908   \n",
       "4                                 -500.356035   \n",
       "\n",
       "   secondary_cleaner.state.floatbank6_a_air  \\\n",
       "0                                 14.151341   \n",
       "1                                 13.998353   \n",
       "2                                 14.028663   \n",
       "3                                 14.005551   \n",
       "4                                 13.996647   \n",
       "\n",
       "   secondary_cleaner.state.floatbank6_a_level  \n",
       "0                                 -605.841980  \n",
       "1                                 -599.787184  \n",
       "2                                 -601.427363  \n",
       "3                                 -599.996129  \n",
       "4                                 -601.496691  \n",
       "\n",
       "[5 rows x 87 columns]"
      ]
     },
     "metadata": {},
     "output_type": "display_data"
    },
    {
     "name": "stdout",
     "output_type": "stream",
     "text": [
      "<class 'pandas.core.frame.DataFrame'>\n",
      "RangeIndex: 16860 entries, 0 to 16859\n",
      "Data columns (total 87 columns):\n",
      "date                                                  16860 non-null object\n",
      "final.output.concentrate_ag                           16788 non-null float64\n",
      "final.output.concentrate_pb                           16788 non-null float64\n",
      "final.output.concentrate_sol                          16490 non-null float64\n",
      "final.output.concentrate_au                           16789 non-null float64\n",
      "final.output.recovery                                 15339 non-null float64\n",
      "final.output.tail_ag                                  16794 non-null float64\n",
      "final.output.tail_pb                                  16677 non-null float64\n",
      "final.output.tail_sol                                 16715 non-null float64\n",
      "final.output.tail_au                                  16794 non-null float64\n",
      "primary_cleaner.input.sulfate                         15553 non-null float64\n",
      "primary_cleaner.input.depressant                      15598 non-null float64\n",
      "primary_cleaner.input.feed_size                       16860 non-null float64\n",
      "primary_cleaner.input.xanthate                        15875 non-null float64\n",
      "primary_cleaner.output.concentrate_ag                 16778 non-null float64\n",
      "primary_cleaner.output.concentrate_pb                 16502 non-null float64\n",
      "primary_cleaner.output.concentrate_sol                16224 non-null float64\n",
      "primary_cleaner.output.concentrate_au                 16778 non-null float64\n",
      "primary_cleaner.output.tail_ag                        16777 non-null float64\n",
      "primary_cleaner.output.tail_pb                        16761 non-null float64\n",
      "primary_cleaner.output.tail_sol                       16579 non-null float64\n",
      "primary_cleaner.output.tail_au                        16777 non-null float64\n",
      "primary_cleaner.state.floatbank8_a_air                16820 non-null float64\n",
      "primary_cleaner.state.floatbank8_a_level              16827 non-null float64\n",
      "primary_cleaner.state.floatbank8_b_air                16820 non-null float64\n",
      "primary_cleaner.state.floatbank8_b_level              16833 non-null float64\n",
      "primary_cleaner.state.floatbank8_c_air                16822 non-null float64\n",
      "primary_cleaner.state.floatbank8_c_level              16833 non-null float64\n",
      "primary_cleaner.state.floatbank8_d_air                16821 non-null float64\n",
      "primary_cleaner.state.floatbank8_d_level              16833 non-null float64\n",
      "rougher.calculation.sulfate_to_au_concentrate         16833 non-null float64\n",
      "rougher.calculation.floatbank10_sulfate_to_au_feed    16833 non-null float64\n",
      "rougher.calculation.floatbank11_sulfate_to_au_feed    16833 non-null float64\n",
      "rougher.calculation.au_pb_ratio                       15618 non-null float64\n",
      "rougher.input.feed_ag                                 16778 non-null float64\n",
      "rougher.input.feed_pb                                 16632 non-null float64\n",
      "rougher.input.feed_rate                               16347 non-null float64\n",
      "rougher.input.feed_size                               16443 non-null float64\n",
      "rougher.input.feed_sol                                16568 non-null float64\n",
      "rougher.input.feed_au                                 16777 non-null float64\n",
      "rougher.input.floatbank10_sulfate                     15816 non-null float64\n",
      "rougher.input.floatbank10_xanthate                    16514 non-null float64\n",
      "rougher.input.floatbank11_sulfate                     16237 non-null float64\n",
      "rougher.input.floatbank11_xanthate                    14956 non-null float64\n",
      "rougher.output.concentrate_ag                         16778 non-null float64\n",
      "rougher.output.concentrate_pb                         16778 non-null float64\n",
      "rougher.output.concentrate_sol                        16698 non-null float64\n",
      "rougher.output.concentrate_au                         16778 non-null float64\n",
      "rougher.output.recovery                               14287 non-null float64\n",
      "rougher.output.tail_ag                                14610 non-null float64\n",
      "rougher.output.tail_pb                                16778 non-null float64\n",
      "rougher.output.tail_sol                               14611 non-null float64\n",
      "rougher.output.tail_au                                14611 non-null float64\n",
      "rougher.state.floatbank10_a_air                       16807 non-null float64\n",
      "rougher.state.floatbank10_a_level                     16807 non-null float64\n",
      "rougher.state.floatbank10_b_air                       16807 non-null float64\n",
      "rougher.state.floatbank10_b_level                     16807 non-null float64\n",
      "rougher.state.floatbank10_c_air                       16807 non-null float64\n",
      "rougher.state.floatbank10_c_level                     16814 non-null float64\n",
      "rougher.state.floatbank10_d_air                       16802 non-null float64\n",
      "rougher.state.floatbank10_d_level                     16809 non-null float64\n",
      "rougher.state.floatbank10_e_air                       16257 non-null float64\n",
      "rougher.state.floatbank10_e_level                     16809 non-null float64\n",
      "rougher.state.floatbank10_f_air                       16802 non-null float64\n",
      "rougher.state.floatbank10_f_level                     16802 non-null float64\n",
      "secondary_cleaner.output.tail_ag                      16776 non-null float64\n",
      "secondary_cleaner.output.tail_pb                      16764 non-null float64\n",
      "secondary_cleaner.output.tail_sol                     14874 non-null float64\n",
      "secondary_cleaner.output.tail_au                      16778 non-null float64\n",
      "secondary_cleaner.state.floatbank2_a_air              16497 non-null float64\n",
      "secondary_cleaner.state.floatbank2_a_level            16751 non-null float64\n",
      "secondary_cleaner.state.floatbank2_b_air              16705 non-null float64\n",
      "secondary_cleaner.state.floatbank2_b_level            16748 non-null float64\n",
      "secondary_cleaner.state.floatbank3_a_air              16763 non-null float64\n",
      "secondary_cleaner.state.floatbank3_a_level            16747 non-null float64\n",
      "secondary_cleaner.state.floatbank3_b_air              16752 non-null float64\n",
      "secondary_cleaner.state.floatbank3_b_level            16750 non-null float64\n",
      "secondary_cleaner.state.floatbank4_a_air              16731 non-null float64\n",
      "secondary_cleaner.state.floatbank4_a_level            16747 non-null float64\n",
      "secondary_cleaner.state.floatbank4_b_air              16768 non-null float64\n",
      "secondary_cleaner.state.floatbank4_b_level            16767 non-null float64\n",
      "secondary_cleaner.state.floatbank5_a_air              16775 non-null float64\n",
      "secondary_cleaner.state.floatbank5_a_level            16775 non-null float64\n",
      "secondary_cleaner.state.floatbank5_b_air              16775 non-null float64\n",
      "secondary_cleaner.state.floatbank5_b_level            16776 non-null float64\n",
      "secondary_cleaner.state.floatbank6_a_air              16757 non-null float64\n",
      "secondary_cleaner.state.floatbank6_a_level            16775 non-null float64\n",
      "dtypes: float64(86), object(1)\n",
      "memory usage: 11.2+ MB\n",
      "None\n",
      "\n",
      "----------------------------------------------------------------\n",
      "\n"
     ]
    }
   ],
   "source": [
    "for df in [full, test, train]:\n",
    "    display(df.head())\n",
    "    print(df.info())\n",
    "    print()\n",
    "    print('----------------------------------------------------------------')\n",
    "    print()"
   ]
  },
  {
   "cell_type": "markdown",
   "metadata": {},
   "source": [
    "#### Вывод\n",
    "Во всех датафреймах имеются множественные пропуски."
   ]
  },
  {
   "cell_type": "markdown",
   "metadata": {},
   "source": [
    "# Подготовка данных <a id=1></a>"
   ]
  },
  {
   "cell_type": "markdown",
   "metadata": {},
   "source": [
    "Удалим пропуски и столбцы date. Попытка заполнить пропуски средним и 'ffill', увеличила MAE модели в разы. "
   ]
  },
  {
   "cell_type": "code",
   "execution_count": 4,
   "metadata": {},
   "outputs": [],
   "source": [
    "train.dropna(inplace=True)\n",
    "test.dropna(inplace=True)\n",
    "full.dropna(inplace=True)"
   ]
  },
  {
   "cell_type": "markdown",
   "metadata": {},
   "source": [
    "Проверим правильность вычисление эффективности обогащения."
   ]
  },
  {
   "cell_type": "code",
   "execution_count": 5,
   "metadata": {},
   "outputs": [],
   "source": [
    "c = train['rougher.output.concentrate_au']\n",
    "f = train['rougher.input.feed_au']\n",
    "t = train['rougher.output.tail_au']"
   ]
  },
  {
   "cell_type": "code",
   "execution_count": 6,
   "metadata": {},
   "outputs": [],
   "source": [
    "recovery = ((c*(f-t)) / (f*(c-t))) * 100"
   ]
  },
  {
   "cell_type": "markdown",
   "metadata": {},
   "source": [
    "Ошибка очень маленькая, данные рассчитаны верно"
   ]
  },
  {
   "cell_type": "code",
   "execution_count": 7,
   "metadata": {},
   "outputs": [
    {
     "data": {
      "text/plain": [
       "9.555596961987514e-15"
      ]
     },
     "execution_count": 7,
     "metadata": {},
     "output_type": "execute_result"
    }
   ],
   "source": [
    "mean_absolute_error(train['rougher.output.recovery'].loc[recovery.index], recovery)"
   ]
  },
  {
   "cell_type": "markdown",
   "metadata": {},
   "source": [
    "Проверим столбцы отсутсвующие в test"
   ]
  },
  {
   "cell_type": "code",
   "execution_count": 8,
   "metadata": {},
   "outputs": [
    {
     "data": {
      "text/plain": [
       "Index(['final.output.concentrate_ag', 'final.output.concentrate_pb',\n",
       "       'final.output.concentrate_sol', 'final.output.concentrate_au',\n",
       "       'final.output.recovery', 'final.output.tail_ag', 'final.output.tail_pb',\n",
       "       'final.output.tail_sol', 'final.output.tail_au',\n",
       "       'primary_cleaner.output.concentrate_ag',\n",
       "       'primary_cleaner.output.concentrate_pb',\n",
       "       'primary_cleaner.output.concentrate_sol',\n",
       "       'primary_cleaner.output.concentrate_au',\n",
       "       'primary_cleaner.output.tail_ag', 'primary_cleaner.output.tail_pb',\n",
       "       'primary_cleaner.output.tail_sol', 'primary_cleaner.output.tail_au',\n",
       "       'rougher.calculation.sulfate_to_au_concentrate',\n",
       "       'rougher.calculation.floatbank10_sulfate_to_au_feed',\n",
       "       'rougher.calculation.floatbank11_sulfate_to_au_feed',\n",
       "       'rougher.calculation.au_pb_ratio', 'rougher.output.concentrate_ag',\n",
       "       'rougher.output.concentrate_pb', 'rougher.output.concentrate_sol',\n",
       "       'rougher.output.concentrate_au', 'rougher.output.recovery',\n",
       "       'rougher.output.tail_ag', 'rougher.output.tail_pb',\n",
       "       'rougher.output.tail_sol', 'rougher.output.tail_au',\n",
       "       'secondary_cleaner.output.tail_ag', 'secondary_cleaner.output.tail_pb',\n",
       "       'secondary_cleaner.output.tail_sol',\n",
       "       'secondary_cleaner.output.tail_au'],\n",
       "      dtype='object')"
      ]
     },
     "execution_count": 8,
     "metadata": {},
     "output_type": "execute_result"
    }
   ],
   "source": [
    "train.columns[~train.columns.isin(test.columns)]"
   ]
  },
  {
   "cell_type": "markdown",
   "metadata": {},
   "source": [
    "В тестовой выборке отсутсутвуют концентрации вещества после этапов и эффективность обогащения. Эти данные замеряются и/или рассчитываются значительно позже. Мы не можем их использовать для обучения."
   ]
  },
  {
   "cell_type": "markdown",
   "metadata": {},
   "source": [
    "# Анализ данных <a id=2></a>"
   ]
  },
  {
   "cell_type": "markdown",
   "metadata": {},
   "source": [
    "### Изменение концентрации металлов в процессе отчистки"
   ]
  },
  {
   "cell_type": "markdown",
   "metadata": {},
   "source": [
    "Посмотрим, как меняется концентрация металлов (Au, Ag, Pb) на различных этапах очистки."
   ]
  },
  {
   "cell_type": "code",
   "execution_count": 9,
   "metadata": {},
   "outputs": [],
   "source": [
    "concentrates = [['rougher.input.feed_ag', 'rougher.output.concentrate_ag', 'primary_cleaner.output.concentrate_ag', 'final.output.concentrate_ag'],\n",
    "                ['rougher.input.feed_au', 'rougher.output.concentrate_au', 'primary_cleaner.output.concentrate_au', 'final.output.concentrate_au'],\n",
    "                ['rougher.input.feed_pb', 'rougher.output.concentrate_pb', 'primary_cleaner.output.concentrate_pb', 'final.output.concentrate_pb']]\n",
    "concentrates_tail = [['rougher.input.feed_ag', 'rougher.output.tail_ag', 'primary_cleaner.output.tail_ag', 'secondary_cleaner.output.tail_ag', 'final.output.tail_ag'],\n",
    "                ['rougher.input.feed_au', 'rougher.output.tail_au', 'primary_cleaner.output.tail_au', 'secondary_cleaner.output.tail_au', 'final.output.tail_au'],\n",
    "                ['rougher.input.feed_pb', 'rougher.output.tail_pb', 'primary_cleaner.output.tail_pb', 'secondary_cleaner.output.tail_pb', 'final.output.tail_pb']]"
   ]
  },
  {
   "cell_type": "code",
   "execution_count": 10,
   "metadata": {},
   "outputs": [
    {
     "data": {
      "image/png": "[encoded data removed]",
      "text/plain": [
       "<Figure size 720x432 with 1 Axes>"
      ]
     },
     "metadata": {
      "needs_background": "light"
     },
     "output_type": "display_data"
    },
    {
     "data": {
      "image/png": "[encoded data removed]",
      "text/plain": [
       "<Figure size 720x432 with 1 Axes>"
      ]
     },
     "metadata": {
      "needs_background": "light"
     },
     "output_type": "display_data"
    },
    {
     "data": {
      "image/png": "[encoded data removed]",
      "text/plain": [
       "<Figure size 720x432 with 1 Axes>"
      ]
     },
     "metadata": {
      "needs_background": "light"
     },
     "output_type": "display_data"
    }
   ],
   "source": [
    "for step in concentrates:\n",
    "    plt.figure(figsize=(10,6))\n",
    "    plt.grid()\n",
    "    plt.hist(train[step[0]], bins=50, alpha=.5);\n",
    "    plt.hist(train[step[1]], bins=50, alpha=.5);\n",
    "    plt.hist(train[step[2]], bins=50, alpha=.5);\n",
    "    plt.hist(train[step[3]], bins=50, alpha=.5);\n",
    "    plt.xlim(0,50)\n",
    "    plt.legend(['исходное сырье', 'после флотации', 'после очистки', 'финальная концентрация'])\n",
    "    title = step[0].split('.')[2].split('_')[-1]\n",
    "    plt.title(title)\n",
    "    plt.xlabel('Концентрация в %')\n",
    "    plt.show()"
   ]
  },
  {
   "cell_type": "markdown",
   "metadata": {},
   "source": [
    "#### Вывод"
   ]
  },
  {
   "cell_type": "markdown",
   "metadata": {},
   "source": [
    "Для золота виден значительный рост концентрации в процессе обработки. Содержание серебра уменьшается. Так же значительно увеличивается концентрация свинца."
   ]
  },
  {
   "cell_type": "markdown",
   "metadata": {},
   "source": [
    "### Концентрация металлов в отвальных хвостах"
   ]
  },
  {
   "cell_type": "code",
   "execution_count": 11,
   "metadata": {},
   "outputs": [
    {
     "data": {
      "image/png": "[encoded data removed]",
      "text/plain": [
       "<Figure size 720x432 with 1 Axes>"
      ]
     },
     "metadata": {
      "needs_background": "light"
     },
     "output_type": "display_data"
    },
    {
     "data": {
      "image/png": "[encoded data removed]",
      "text/plain": [
       "<Figure size 720x432 with 1 Axes>"
      ]
     },
     "metadata": {
      "needs_background": "light"
     },
     "output_type": "display_data"
    },
    {
     "data": {
      "image/png": "[encoded data removed]",
      "text/plain": [
       "<Figure size 720x432 with 1 Axes>"
      ]
     },
     "metadata": {
      "needs_background": "light"
     },
     "output_type": "display_data"
    }
   ],
   "source": [
    "for step in concentrates_tail:\n",
    "    plt.figure(figsize=(10,6))\n",
    "    plt.grid()\n",
    "    plt.hist(train[step[0]], bins=50, alpha=.5);\n",
    "    plt.hist(train[step[1]], bins=50, alpha=.5);\n",
    "    plt.hist(train[step[2]], bins=50, alpha=.5);\n",
    "    plt.hist(train[step[3]], bins=50, alpha=.5);\n",
    "    plt.hist(train[step[4]], bins=50, alpha=.5);\n",
    "    plt.legend(step)\n",
    "    plt.xlim(0,30)\n",
    "    title = step[0].split('.')[2].split('_')[-1]\n",
    "    plt.title(title)\n",
    "    plt.legend(['исходное сырье', 'после флотации', 'после первичной очистки', 'после вторичной очистки', 'финальная концентрация'])\n",
    "    plt.show()"
   ]
  },
  {
   "cell_type": "markdown",
   "metadata": {},
   "source": [
    "#### Вывод"
   ]
  },
  {
   "cell_type": "markdown",
   "metadata": {},
   "source": [
    "Большая часть серебра уходит в хвосты в процессе первичной и вторичной очистки. Флотация плохо отделяет металлы."
   ]
  },
  {
   "cell_type": "markdown",
   "metadata": {},
   "source": [
    "### Размер гранул"
   ]
  },
  {
   "cell_type": "code",
   "execution_count": 12,
   "metadata": {},
   "outputs": [
    {
     "data": {
      "image/png": "[encoded data removed]",
      "text/plain": [
       "<Figure size 720x432 with 1 Axes>"
      ]
     },
     "metadata": {
      "needs_background": "light"
     },
     "output_type": "display_data"
    }
   ],
   "source": [
    "plt.figure(figsize=(10,6))\n",
    "plt.grid()\n",
    "plt.hist(train['rougher.input.feed_size'], bins=100, alpha=.5, density=True);\n",
    "plt.hist(test['rougher.input.feed_size'], bins=100, alpha=.5, density=True);\n",
    "plt.xlim(0, 150)\n",
    "plt.legend(['обучающая выборка', 'тестовая выборка'])\n",
    "plt.title('Распределения размеров гранул сырья')\n",
    "plt.xlabel('Размер гранул сырья')\n",
    "plt.show()"
   ]
  },
  {
   "cell_type": "code",
   "execution_count": 13,
   "metadata": {},
   "outputs": [
    {
     "data": {
      "text/plain": [
       "count    11017.000000\n",
       "mean        57.215128\n",
       "std         18.913146\n",
       "min          9.659576\n",
       "25%         48.397242\n",
       "50%         53.843359\n",
       "75%         61.461770\n",
       "max        484.967466\n",
       "Name: rougher.input.feed_size, dtype: float64"
      ]
     },
     "execution_count": 13,
     "metadata": {},
     "output_type": "execute_result"
    }
   ],
   "source": [
    "train['rougher.input.feed_size'].describe()"
   ]
  },
  {
   "cell_type": "code",
   "execution_count": 14,
   "metadata": {},
   "outputs": [
    {
     "data": {
      "text/plain": [
       "count    5383.000000\n",
       "mean       56.338644\n",
       "std        21.836788\n",
       "min         0.046369\n",
       "25%        43.913766\n",
       "50%        50.924232\n",
       "75%        62.364984\n",
       "max       477.445473\n",
       "Name: rougher.input.feed_size, dtype: float64"
      ]
     },
     "execution_count": 14,
     "metadata": {},
     "output_type": "execute_result"
    }
   ],
   "source": [
    "test['rougher.input.feed_size'].describe()"
   ]
  },
  {
   "cell_type": "markdown",
   "metadata": {},
   "source": [
    "#### Вывод\n",
    "Размер гранул сырья отличается незначительно."
   ]
  },
  {
   "cell_type": "markdown",
   "metadata": {},
   "source": [
    "### Концентрация всех веществ на разных стадиях: в сырье, в черновом и финальном концентратах."
   ]
  },
  {
   "cell_type": "code",
   "execution_count": 15,
   "metadata": {},
   "outputs": [],
   "source": [
    "input_s = ['rougher.input.feed_au', 'rougher.input.feed_ag', 'rougher.input.feed_pb', 'rougher.input.feed_sol']\n",
    "output_s = ['rougher.output.concentrate_au', 'rougher.output.concentrate_ag', 'rougher.output.concentrate_pb', 'rougher.output.concentrate_sol']\n",
    "final_s = ['final.output.concentrate_au', 'final.output.concentrate_ag', 'final.output.concentrate_pb', 'final.output.concentrate_sol']"
   ]
  },
  {
   "cell_type": "code",
   "execution_count": 16,
   "metadata": {},
   "outputs": [
    {
     "data": {
      "image/png": "[encoded data removed]",
      "text/plain": [
       "<Figure size 720x432 with 1 Axes>"
      ]
     },
     "metadata": {
      "needs_background": "light"
     },
     "output_type": "display_data"
    }
   ],
   "source": [
    "plt.figure(figsize=(10,6))\n",
    "plt.grid()\n",
    "plt.hist(full[input_s].sum(axis=1), bins=50, alpha=.5);\n",
    "plt.hist(full[output_s].sum(axis=1), bins=50, alpha=.5);\n",
    "plt.hist(full[final_s].sum(axis=1), bins=50, alpha=.5);\n",
    "plt.legend(['В сырье', 'В черновом', 'В финальном'])\n",
    "plt.title('Распределение концентрации всех веществ на разных стадиях')\n",
    "plt.xlabel('Суммарная концентрация (Au, Ag, PB, солей)')\n",
    "plt.show()"
   ]
  },
  {
   "cell_type": "markdown",
   "metadata": {},
   "source": [
    "#### Вывод <a id=13></a>"
   ]
  },
  {
   "cell_type": "markdown",
   "metadata": {},
   "source": [
    "Анамальными можно назвать 0 значения. Удалим эти строки."
   ]
  },
  {
   "cell_type": "code",
   "execution_count": 17,
   "metadata": {},
   "outputs": [],
   "source": [
    "train = train[(train['final.output.concentrate_ag'] != 0) & (train['rougher.output.concentrate_au'] != 0)]"
   ]
  },
  {
   "cell_type": "markdown",
   "metadata": {},
   "source": [
    "# Создание и проверка моделей <a id=3></a>"
   ]
  },
  {
   "cell_type": "markdown",
   "metadata": {},
   "source": [
    "### Разбивка на воборки"
   ]
  },
  {
   "cell_type": "markdown",
   "metadata": {},
   "source": [
    "Для обучения будем использовать столбцы из тестовой выборки"
   ]
  },
  {
   "cell_type": "code",
   "execution_count": 18,
   "metadata": {},
   "outputs": [],
   "source": [
    "X_train = train[test.columns].drop('date', axis=1)"
   ]
  },
  {
   "cell_type": "code",
   "execution_count": 19,
   "metadata": {},
   "outputs": [],
   "source": [
    "y_train = train[['rougher.output.recovery', 'final.output.recovery']]"
   ]
  },
  {
   "cell_type": "markdown",
   "metadata": {},
   "source": [
    "Присоединим столбцы с истинными значениями целевых показателей из full"
   ]
  },
  {
   "cell_type": "code",
   "execution_count": 20,
   "metadata": {},
   "outputs": [],
   "source": [
    "test = test.merge(full[['date', 'rougher.output.recovery', 'final.output.recovery']], how='left', on='date').dropna()\n",
    "X_test = test.drop(['date', 'rougher.output.recovery', 'final.output.recovery'], axis=1)\n",
    "y_test = test[['rougher.output.recovery', 'final.output.recovery']]"
   ]
  },
  {
   "cell_type": "markdown",
   "metadata": {},
   "source": [
    "Проведем масштабирование признаков"
   ]
  },
  {
   "cell_type": "code",
   "execution_count": 21,
   "metadata": {},
   "outputs": [],
   "source": [
    "scaler = StandardScaler()\n",
    "X_train = scaler.fit_transform(X_train)\n",
    "X_test = scaler.transform(X_test)"
   ]
  },
  {
   "cell_type": "markdown",
   "metadata": {},
   "source": [
    "### Scorer <a id=11> </a>"
   ]
  },
  {
   "cell_type": "code",
   "execution_count": 22,
   "metadata": {},
   "outputs": [],
   "source": [
    "def smape(true, pred):\n",
    "    total = ((abs(true - pred) / ((abs(true) + abs(pred))/2)).sum())*100 / len(true)\n",
    "    return total[0]*0.25 + total[1]*0.75"
   ]
  },
  {
   "cell_type": "code",
   "execution_count": 23,
   "metadata": {},
   "outputs": [],
   "source": [
    "smape_score = make_scorer(smape, greater_is_better=False)"
   ]
  },
  {
   "cell_type": "markdown",
   "metadata": {},
   "source": [
    "### LinearRegression"
   ]
  },
  {
   "cell_type": "code",
   "execution_count": 24,
   "metadata": {},
   "outputs": [
    {
     "name": "stdout",
     "output_type": "stream",
     "text": [
      "Значение кроссвалидации  -9.993079950898967\n"
     ]
    }
   ],
   "source": [
    "model = LinearRegression()\n",
    "print('Значение кроссвалидации ', pd.Series((cross_val_score(model, X_train, y_train, cv=3, scoring=smape_score))).mean())"
   ]
  },
  {
   "cell_type": "markdown",
   "metadata": {},
   "source": [
    "### Параметры для DecisionTreeRegressor и RandomForestRegressor <a id=12></a>"
   ]
  },
  {
   "cell_type": "code",
   "execution_count": 25,
   "metadata": {},
   "outputs": [],
   "source": [
    "n_estimators = [int(x) for x in np.linspace(start = 100, stop = 300, num = 5)]\n",
    "max_features = ['auto', 'sqrt']\n",
    "max_depth = [int(x) for x in np.linspace(10, 110, num = 11)]\n",
    "max_depth.append(None)\n",
    "min_samples_split = [2, 5, 10]\n",
    "min_samples_leaf = [1, 2, 4]\n",
    "bootstrap = [True, False]\n",
    "dt_grid = {    'max_features': max_features,\n",
    "               'max_depth': max_depth,\n",
    "               'min_samples_split': min_samples_split,\n",
    "               'min_samples_leaf': min_samples_leaf}\n",
    "rf_grid = {'n_estimators': n_estimators,\n",
    "               'max_features': max_features,\n",
    "               'max_depth': max_depth,\n",
    "               'min_samples_split': min_samples_split,\n",
    "               'min_samples_leaf': min_samples_leaf,\n",
    "               'bootstrap': bootstrap}\n"
   ]
  },
  {
   "cell_type": "markdown",
   "metadata": {},
   "source": [
    "### DecisionTreeRegressor"
   ]
  },
  {
   "cell_type": "code",
   "execution_count": 26,
   "metadata": {},
   "outputs": [
    {
     "name": "stdout",
     "output_type": "stream",
     "text": [
      "Fitting 3 folds for each of 50 candidates, totalling 150 fits\n",
      "[CV] min_samples_split=2, min_samples_leaf=2, max_features=auto, max_depth=None \n"
     ]
    },
    {
     "name": "stderr",
     "output_type": "stream",
     "text": [
      "[Parallel(n_jobs=-1)]: Using backend SequentialBackend with 1 concurrent workers.\n"
     ]
    },
    {
     "name": "stdout",
     "output_type": "stream",
     "text": [
      "[CV]  min_samples_split=2, min_samples_leaf=2, max_features=auto, max_depth=None, total=   0.6s\n",
      "[CV] min_samples_split=2, min_samples_leaf=2, max_features=auto, max_depth=None \n"
     ]
    },
    {
     "name": "stderr",
     "output_type": "stream",
     "text": [
      "[Parallel(n_jobs=-1)]: Done   1 out of   1 | elapsed:    0.6s remaining:    0.0s\n"
     ]
    },
    {
     "name": "stdout",
     "output_type": "stream",
     "text": [
      "[CV]  min_samples_split=2, min_samples_leaf=2, max_features=auto, max_depth=None, total=   0.5s\n",
      "[CV] min_samples_split=2, min_samples_leaf=2, max_features=auto, max_depth=None \n",
      "[CV]  min_samples_split=2, min_samples_leaf=2, max_features=auto, max_depth=None, total=   0.6s\n",
      "[CV] min_samples_split=2, min_samples_leaf=4, max_features=sqrt, max_depth=None \n",
      "[CV]  min_samples_split=2, min_samples_leaf=4, max_features=sqrt, max_depth=None, total=   0.1s\n",
      "[CV] min_samples_split=2, min_samples_leaf=4, max_features=sqrt, max_depth=None \n",
      "[CV]  min_samples_split=2, min_samples_leaf=4, max_features=sqrt, max_depth=None, total=   0.1s\n",
      "[CV] min_samples_split=2, min_samples_leaf=4, max_features=sqrt, max_depth=None \n",
      "[CV]  min_samples_split=2, min_samples_leaf=4, max_features=sqrt, max_depth=None, total=   0.1s\n",
      "[CV] min_samples_split=2, min_samples_leaf=2, max_features=sqrt, max_depth=80 \n",
      "[CV]  min_samples_split=2, min_samples_leaf=2, max_features=sqrt, max_depth=80, total=   0.1s\n",
      "[CV] min_samples_split=2, min_samples_leaf=2, max_features=sqrt, max_depth=80 \n",
      "[CV]  min_samples_split=2, min_samples_leaf=2, max_features=sqrt, max_depth=80, total=   0.1s\n",
      "[CV] min_samples_split=2, min_samples_leaf=2, max_features=sqrt, max_depth=80 \n",
      "[CV]  min_samples_split=2, min_samples_leaf=2, max_features=sqrt, max_depth=80, total=   0.1s\n",
      "[CV] min_samples_split=2, min_samples_leaf=4, max_features=sqrt, max_depth=100 \n",
      "[CV]  min_samples_split=2, min_samples_leaf=4, max_features=sqrt, max_depth=100, total=   0.1s\n",
      "[CV] min_samples_split=2, min_samples_leaf=4, max_features=sqrt, max_depth=100 \n",
      "[CV]  min_samples_split=2, min_samples_leaf=4, max_features=sqrt, max_depth=100, total=   0.1s\n",
      "[CV] min_samples_split=2, min_samples_leaf=4, max_features=sqrt, max_depth=100 \n",
      "[CV]  min_samples_split=2, min_samples_leaf=4, max_features=sqrt, max_depth=100, total=   0.1s\n",
      "[CV] min_samples_split=2, min_samples_leaf=4, max_features=sqrt, max_depth=10 \n",
      "[CV]  min_samples_split=2, min_samples_leaf=4, max_features=sqrt, max_depth=10, total=   0.1s\n",
      "[CV] min_samples_split=2, min_samples_leaf=4, max_features=sqrt, max_depth=10 \n",
      "[CV]  min_samples_split=2, min_samples_leaf=4, max_features=sqrt, max_depth=10, total=   0.1s\n",
      "[CV] min_samples_split=2, min_samples_leaf=4, max_features=sqrt, max_depth=10 \n",
      "[CV]  min_samples_split=2, min_samples_leaf=4, max_features=sqrt, max_depth=10, total=   0.1s\n",
      "[CV] min_samples_split=2, min_samples_leaf=2, max_features=auto, max_depth=70 \n",
      "[CV]  min_samples_split=2, min_samples_leaf=2, max_features=auto, max_depth=70, total=   0.6s\n",
      "[CV] min_samples_split=2, min_samples_leaf=2, max_features=auto, max_depth=70 \n",
      "[CV]  min_samples_split=2, min_samples_leaf=2, max_features=auto, max_depth=70, total=   0.5s\n",
      "[CV] min_samples_split=2, min_samples_leaf=2, max_features=auto, max_depth=70 \n",
      "[CV]  min_samples_split=2, min_samples_leaf=2, max_features=auto, max_depth=70, total=   0.6s\n",
      "[CV] min_samples_split=10, min_samples_leaf=1, max_features=auto, max_depth=110 \n",
      "[CV]  min_samples_split=10, min_samples_leaf=1, max_features=auto, max_depth=110, total=   0.6s\n",
      "[CV] min_samples_split=10, min_samples_leaf=1, max_features=auto, max_depth=110 \n",
      "[CV]  min_samples_split=10, min_samples_leaf=1, max_features=auto, max_depth=110, total=   0.6s\n",
      "[CV] min_samples_split=10, min_samples_leaf=1, max_features=auto, max_depth=110 \n",
      "[CV]  min_samples_split=10, min_samples_leaf=1, max_features=auto, max_depth=110, total=   0.5s\n",
      "[CV] min_samples_split=5, min_samples_leaf=1, max_features=auto, max_depth=50 \n",
      "[CV]  min_samples_split=5, min_samples_leaf=1, max_features=auto, max_depth=50, total=   0.6s\n",
      "[CV] min_samples_split=5, min_samples_leaf=1, max_features=auto, max_depth=50 \n",
      "[CV]  min_samples_split=5, min_samples_leaf=1, max_features=auto, max_depth=50, total=   0.6s\n",
      "[CV] min_samples_split=5, min_samples_leaf=1, max_features=auto, max_depth=50 \n",
      "[CV]  min_samples_split=5, min_samples_leaf=1, max_features=auto, max_depth=50, total=   0.6s\n",
      "[CV] min_samples_split=5, min_samples_leaf=4, max_features=auto, max_depth=None \n",
      "[CV]  min_samples_split=5, min_samples_leaf=4, max_features=auto, max_depth=None, total=   0.5s\n",
      "[CV] min_samples_split=5, min_samples_leaf=4, max_features=auto, max_depth=None \n",
      "[CV]  min_samples_split=5, min_samples_leaf=4, max_features=auto, max_depth=None, total=   0.5s\n",
      "[CV] min_samples_split=5, min_samples_leaf=4, max_features=auto, max_depth=None \n",
      "[CV]  min_samples_split=5, min_samples_leaf=4, max_features=auto, max_depth=None, total=   0.5s\n",
      "[CV] min_samples_split=5, min_samples_leaf=2, max_features=sqrt, max_depth=80 \n",
      "[CV]  min_samples_split=5, min_samples_leaf=2, max_features=sqrt, max_depth=80, total=   0.1s\n",
      "[CV] min_samples_split=5, min_samples_leaf=2, max_features=sqrt, max_depth=80 \n",
      "[CV]  min_samples_split=5, min_samples_leaf=2, max_features=sqrt, max_depth=80, total=   0.1s\n",
      "[CV] min_samples_split=5, min_samples_leaf=2, max_features=sqrt, max_depth=80 \n",
      "[CV]  min_samples_split=5, min_samples_leaf=2, max_features=sqrt, max_depth=80, total=   0.1s\n",
      "[CV] min_samples_split=2, min_samples_leaf=4, max_features=sqrt, max_depth=90 \n",
      "[CV]  min_samples_split=2, min_samples_leaf=4, max_features=sqrt, max_depth=90, total=   0.1s\n",
      "[CV] min_samples_split=2, min_samples_leaf=4, max_features=sqrt, max_depth=90 \n",
      "[CV]  min_samples_split=2, min_samples_leaf=4, max_features=sqrt, max_depth=90, total=   0.1s\n",
      "[CV] min_samples_split=2, min_samples_leaf=4, max_features=sqrt, max_depth=90 \n",
      "[CV]  min_samples_split=2, min_samples_leaf=4, max_features=sqrt, max_depth=90, total=   0.1s\n",
      "[CV] min_samples_split=2, min_samples_leaf=2, max_features=sqrt, max_depth=20 \n",
      "[CV]  min_samples_split=2, min_samples_leaf=2, max_features=sqrt, max_depth=20, total=   0.1s\n",
      "[CV] min_samples_split=2, min_samples_leaf=2, max_features=sqrt, max_depth=20 \n",
      "[CV]  min_samples_split=2, min_samples_leaf=2, max_features=sqrt, max_depth=20, total=   0.1s\n",
      "[CV] min_samples_split=2, min_samples_leaf=2, max_features=sqrt, max_depth=20 \n",
      "[CV]  min_samples_split=2, min_samples_leaf=2, max_features=sqrt, max_depth=20, total=   0.1s\n",
      "[CV] min_samples_split=5, min_samples_leaf=1, max_features=sqrt, max_depth=110 \n",
      "[CV]  min_samples_split=5, min_samples_leaf=1, max_features=sqrt, max_depth=110, total=   0.1s\n",
      "[CV] min_samples_split=5, min_samples_leaf=1, max_features=sqrt, max_depth=110 \n",
      "[CV]  min_samples_split=5, min_samples_leaf=1, max_features=sqrt, max_depth=110, total=   0.1s\n",
      "[CV] min_samples_split=5, min_samples_leaf=1, max_features=sqrt, max_depth=110 \n",
      "[CV]  min_samples_split=5, min_samples_leaf=1, max_features=sqrt, max_depth=110, total=   0.1s\n",
      "[CV] min_samples_split=2, min_samples_leaf=1, max_features=sqrt, max_depth=10 \n",
      "[CV]  min_samples_split=2, min_samples_leaf=1, max_features=sqrt, max_depth=10, total=   0.1s\n",
      "[CV] min_samples_split=2, min_samples_leaf=1, max_features=sqrt, max_depth=10 \n",
      "[CV]  min_samples_split=2, min_samples_leaf=1, max_features=sqrt, max_depth=10, total=   0.1s\n",
      "[CV] min_samples_split=2, min_samples_leaf=1, max_features=sqrt, max_depth=10 \n",
      "[CV]  min_samples_split=2, min_samples_leaf=1, max_features=sqrt, max_depth=10, total=   0.1s\n",
      "[CV] min_samples_split=5, min_samples_leaf=2, max_features=sqrt, max_depth=40 \n",
      "[CV]  min_samples_split=5, min_samples_leaf=2, max_features=sqrt, max_depth=40, total=   0.1s\n",
      "[CV] min_samples_split=5, min_samples_leaf=2, max_features=sqrt, max_depth=40 \n",
      "[CV]  min_samples_split=5, min_samples_leaf=2, max_features=sqrt, max_depth=40, total=   0.1s\n",
      "[CV] min_samples_split=5, min_samples_leaf=2, max_features=sqrt, max_depth=40 \n",
      "[CV]  min_samples_split=5, min_samples_leaf=2, max_features=sqrt, max_depth=40, total=   0.1s\n",
      "[CV] min_samples_split=10, min_samples_leaf=2, max_features=sqrt, max_depth=100 \n",
      "[CV]  min_samples_split=10, min_samples_leaf=2, max_features=sqrt, max_depth=100, total=   0.1s\n",
      "[CV] min_samples_split=10, min_samples_leaf=2, max_features=sqrt, max_depth=100 \n",
      "[CV]  min_samples_split=10, min_samples_leaf=2, max_features=sqrt, max_depth=100, total=   0.1s\n",
      "[CV] min_samples_split=10, min_samples_leaf=2, max_features=sqrt, max_depth=100 \n",
      "[CV]  min_samples_split=10, min_samples_leaf=2, max_features=sqrt, max_depth=100, total=   0.1s\n",
      "[CV] min_samples_split=5, min_samples_leaf=1, max_features=sqrt, max_depth=100 \n",
      "[CV]  min_samples_split=5, min_samples_leaf=1, max_features=sqrt, max_depth=100, total=   0.1s\n",
      "[CV] min_samples_split=5, min_samples_leaf=1, max_features=sqrt, max_depth=100 \n",
      "[CV]  min_samples_split=5, min_samples_leaf=1, max_features=sqrt, max_depth=100, total=   0.1s\n",
      "[CV] min_samples_split=5, min_samples_leaf=1, max_features=sqrt, max_depth=100 \n",
      "[CV]  min_samples_split=5, min_samples_leaf=1, max_features=sqrt, max_depth=100, total=   0.1s\n",
      "[CV] min_samples_split=2, min_samples_leaf=1, max_features=auto, max_depth=20 \n",
      "[CV]  min_samples_split=2, min_samples_leaf=1, max_features=auto, max_depth=20, total=   0.8s\n",
      "[CV] min_samples_split=2, min_samples_leaf=1, max_features=auto, max_depth=20 \n",
      "[CV]  min_samples_split=2, min_samples_leaf=1, max_features=auto, max_depth=20, total=   0.6s\n",
      "[CV] min_samples_split=2, min_samples_leaf=1, max_features=auto, max_depth=20 \n",
      "[CV]  min_samples_split=2, min_samples_leaf=1, max_features=auto, max_depth=20, total=   0.6s\n",
      "[CV] min_samples_split=5, min_samples_leaf=1, max_features=sqrt, max_depth=90 \n",
      "[CV]  min_samples_split=5, min_samples_leaf=1, max_features=sqrt, max_depth=90, total=   0.1s\n",
      "[CV] min_samples_split=5, min_samples_leaf=1, max_features=sqrt, max_depth=90 \n",
      "[CV]  min_samples_split=5, min_samples_leaf=1, max_features=sqrt, max_depth=90, total=   0.1s\n",
      "[CV] min_samples_split=5, min_samples_leaf=1, max_features=sqrt, max_depth=90 \n",
      "[CV]  min_samples_split=5, min_samples_leaf=1, max_features=sqrt, max_depth=90, total=   0.1s\n",
      "[CV] min_samples_split=2, min_samples_leaf=2, max_features=sqrt, max_depth=40 \n",
      "[CV]  min_samples_split=2, min_samples_leaf=2, max_features=sqrt, max_depth=40, total=   0.1s\n",
      "[CV] min_samples_split=2, min_samples_leaf=2, max_features=sqrt, max_depth=40 \n",
      "[CV]  min_samples_split=2, min_samples_leaf=2, max_features=sqrt, max_depth=40, total=   0.1s\n",
      "[CV] min_samples_split=2, min_samples_leaf=2, max_features=sqrt, max_depth=40 \n",
      "[CV]  min_samples_split=2, min_samples_leaf=2, max_features=sqrt, max_depth=40, total=   0.1s\n",
      "[CV] min_samples_split=2, min_samples_leaf=4, max_features=auto, max_depth=110 \n",
      "[CV]  min_samples_split=2, min_samples_leaf=4, max_features=auto, max_depth=110, total=   0.5s\n",
      "[CV] min_samples_split=2, min_samples_leaf=4, max_features=auto, max_depth=110 \n",
      "[CV]  min_samples_split=2, min_samples_leaf=4, max_features=auto, max_depth=110, total=   0.5s\n",
      "[CV] min_samples_split=2, min_samples_leaf=4, max_features=auto, max_depth=110 \n",
      "[CV]  min_samples_split=2, min_samples_leaf=4, max_features=auto, max_depth=110, total=   0.5s\n",
      "[CV] min_samples_split=5, min_samples_leaf=4, max_features=sqrt, max_depth=80 \n",
      "[CV]  min_samples_split=5, min_samples_leaf=4, max_features=sqrt, max_depth=80, total=   0.1s\n",
      "[CV] min_samples_split=5, min_samples_leaf=4, max_features=sqrt, max_depth=80 \n",
      "[CV]  min_samples_split=5, min_samples_leaf=4, max_features=sqrt, max_depth=80, total=   0.1s\n",
      "[CV] min_samples_split=5, min_samples_leaf=4, max_features=sqrt, max_depth=80 \n",
      "[CV]  min_samples_split=5, min_samples_leaf=4, max_features=sqrt, max_depth=80, total=   0.1s\n",
      "[CV] min_samples_split=5, min_samples_leaf=4, max_features=auto, max_depth=50 \n",
      "[CV]  min_samples_split=5, min_samples_leaf=4, max_features=auto, max_depth=50, total=   0.5s\n",
      "[CV] min_samples_split=5, min_samples_leaf=4, max_features=auto, max_depth=50 \n",
      "[CV]  min_samples_split=5, min_samples_leaf=4, max_features=auto, max_depth=50, total=   0.5s\n",
      "[CV] min_samples_split=5, min_samples_leaf=4, max_features=auto, max_depth=50 \n",
      "[CV]  min_samples_split=5, min_samples_leaf=4, max_features=auto, max_depth=50, total=   0.5s\n",
      "[CV] min_samples_split=5, min_samples_leaf=4, max_features=auto, max_depth=20 \n",
      "[CV]  min_samples_split=5, min_samples_leaf=4, max_features=auto, max_depth=20, total=   0.5s\n",
      "[CV] min_samples_split=5, min_samples_leaf=4, max_features=auto, max_depth=20 \n",
      "[CV]  min_samples_split=5, min_samples_leaf=4, max_features=auto, max_depth=20, total=   0.5s\n",
      "[CV] min_samples_split=5, min_samples_leaf=4, max_features=auto, max_depth=20 \n",
      "[CV]  min_samples_split=5, min_samples_leaf=4, max_features=auto, max_depth=20, total=   0.5s\n",
      "[CV] min_samples_split=10, min_samples_leaf=2, max_features=sqrt, max_depth=60 \n",
      "[CV]  min_samples_split=10, min_samples_leaf=2, max_features=sqrt, max_depth=60, total=   0.1s\n",
      "[CV] min_samples_split=10, min_samples_leaf=2, max_features=sqrt, max_depth=60 \n",
      "[CV]  min_samples_split=10, min_samples_leaf=2, max_features=sqrt, max_depth=60, total=   0.1s\n",
      "[CV] min_samples_split=10, min_samples_leaf=2, max_features=sqrt, max_depth=60 \n",
      "[CV]  min_samples_split=10, min_samples_leaf=2, max_features=sqrt, max_depth=60, total=   0.1s\n",
      "[CV] min_samples_split=10, min_samples_leaf=1, max_features=auto, max_depth=90 \n",
      "[CV]  min_samples_split=10, min_samples_leaf=1, max_features=auto, max_depth=90, total=   0.6s\n",
      "[CV] min_samples_split=10, min_samples_leaf=1, max_features=auto, max_depth=90 \n",
      "[CV]  min_samples_split=10, min_samples_leaf=1, max_features=auto, max_depth=90, total=   0.6s\n",
      "[CV] min_samples_split=10, min_samples_leaf=1, max_features=auto, max_depth=90 \n",
      "[CV]  min_samples_split=10, min_samples_leaf=1, max_features=auto, max_depth=90, total=   0.6s\n",
      "[CV] min_samples_split=10, min_samples_leaf=4, max_features=sqrt, max_depth=90 \n",
      "[CV]  min_samples_split=10, min_samples_leaf=4, max_features=sqrt, max_depth=90, total=   0.1s\n",
      "[CV] min_samples_split=10, min_samples_leaf=4, max_features=sqrt, max_depth=90 \n",
      "[CV]  min_samples_split=10, min_samples_leaf=4, max_features=sqrt, max_depth=90, total=   0.1s\n",
      "[CV] min_samples_split=10, min_samples_leaf=4, max_features=sqrt, max_depth=90 \n",
      "[CV]  min_samples_split=10, min_samples_leaf=4, max_features=sqrt, max_depth=90, total=   0.1s\n",
      "[CV] min_samples_split=5, min_samples_leaf=4, max_features=sqrt, max_depth=10 \n",
      "[CV]  min_samples_split=5, min_samples_leaf=4, max_features=sqrt, max_depth=10, total=   0.1s\n",
      "[CV] min_samples_split=5, min_samples_leaf=4, max_features=sqrt, max_depth=10 \n",
      "[CV]  min_samples_split=5, min_samples_leaf=4, max_features=sqrt, max_depth=10, total=   0.1s\n",
      "[CV] min_samples_split=5, min_samples_leaf=4, max_features=sqrt, max_depth=10 \n",
      "[CV]  min_samples_split=5, min_samples_leaf=4, max_features=sqrt, max_depth=10, total=   0.1s\n",
      "[CV] min_samples_split=2, min_samples_leaf=1, max_features=sqrt, max_depth=30 \n",
      "[CV]  min_samples_split=2, min_samples_leaf=1, max_features=sqrt, max_depth=30, total=   0.1s\n",
      "[CV] min_samples_split=2, min_samples_leaf=1, max_features=sqrt, max_depth=30 \n",
      "[CV]  min_samples_split=2, min_samples_leaf=1, max_features=sqrt, max_depth=30, total=   0.1s\n",
      "[CV] min_samples_split=2, min_samples_leaf=1, max_features=sqrt, max_depth=30 \n",
      "[CV]  min_samples_split=2, min_samples_leaf=1, max_features=sqrt, max_depth=30, total=   0.1s\n",
      "[CV] min_samples_split=5, min_samples_leaf=1, max_features=auto, max_depth=None \n",
      "[CV]  min_samples_split=5, min_samples_leaf=1, max_features=auto, max_depth=None, total=   0.6s\n",
      "[CV] min_samples_split=5, min_samples_leaf=1, max_features=auto, max_depth=None \n",
      "[CV]  min_samples_split=5, min_samples_leaf=1, max_features=auto, max_depth=None, total=   0.6s\n",
      "[CV] min_samples_split=5, min_samples_leaf=1, max_features=auto, max_depth=None \n",
      "[CV]  min_samples_split=5, min_samples_leaf=1, max_features=auto, max_depth=None, total=   0.6s\n",
      "[CV] min_samples_split=2, min_samples_leaf=1, max_features=auto, max_depth=70 \n",
      "[CV]  min_samples_split=2, min_samples_leaf=1, max_features=auto, max_depth=70, total=   0.7s\n",
      "[CV] min_samples_split=2, min_samples_leaf=1, max_features=auto, max_depth=70 \n",
      "[CV]  min_samples_split=2, min_samples_leaf=1, max_features=auto, max_depth=70, total=   0.7s\n",
      "[CV] min_samples_split=2, min_samples_leaf=1, max_features=auto, max_depth=70 \n",
      "[CV]  min_samples_split=2, min_samples_leaf=1, max_features=auto, max_depth=70, total=   0.6s\n",
      "[CV] min_samples_split=5, min_samples_leaf=1, max_features=auto, max_depth=40 \n",
      "[CV]  min_samples_split=5, min_samples_leaf=1, max_features=auto, max_depth=40, total=   0.6s\n",
      "[CV] min_samples_split=5, min_samples_leaf=1, max_features=auto, max_depth=40 \n",
      "[CV]  min_samples_split=5, min_samples_leaf=1, max_features=auto, max_depth=40, total=   0.6s\n",
      "[CV] min_samples_split=5, min_samples_leaf=1, max_features=auto, max_depth=40 \n",
      "[CV]  min_samples_split=5, min_samples_leaf=1, max_features=auto, max_depth=40, total=   0.6s\n",
      "[CV] min_samples_split=5, min_samples_leaf=2, max_features=auto, max_depth=70 \n",
      "[CV]  min_samples_split=5, min_samples_leaf=2, max_features=auto, max_depth=70, total=   0.6s\n",
      "[CV] min_samples_split=5, min_samples_leaf=2, max_features=auto, max_depth=70 \n",
      "[CV]  min_samples_split=5, min_samples_leaf=2, max_features=auto, max_depth=70, total=   0.6s\n",
      "[CV] min_samples_split=5, min_samples_leaf=2, max_features=auto, max_depth=70 \n",
      "[CV]  min_samples_split=5, min_samples_leaf=2, max_features=auto, max_depth=70, total=   0.6s\n",
      "[CV] min_samples_split=2, min_samples_leaf=2, max_features=sqrt, max_depth=110 \n",
      "[CV]  min_samples_split=2, min_samples_leaf=2, max_features=sqrt, max_depth=110, total=   0.1s\n",
      "[CV] min_samples_split=2, min_samples_leaf=2, max_features=sqrt, max_depth=110 \n",
      "[CV]  min_samples_split=2, min_samples_leaf=2, max_features=sqrt, max_depth=110, total=   0.1s\n",
      "[CV] min_samples_split=2, min_samples_leaf=2, max_features=sqrt, max_depth=110 \n",
      "[CV]  min_samples_split=2, min_samples_leaf=2, max_features=sqrt, max_depth=110, total=   0.1s\n",
      "[CV] min_samples_split=5, min_samples_leaf=4, max_features=sqrt, max_depth=70 \n",
      "[CV]  min_samples_split=5, min_samples_leaf=4, max_features=sqrt, max_depth=70, total=   0.1s\n",
      "[CV] min_samples_split=5, min_samples_leaf=4, max_features=sqrt, max_depth=70 \n",
      "[CV]  min_samples_split=5, min_samples_leaf=4, max_features=sqrt, max_depth=70, total=   0.1s\n",
      "[CV] min_samples_split=5, min_samples_leaf=4, max_features=sqrt, max_depth=70 \n",
      "[CV]  min_samples_split=5, min_samples_leaf=4, max_features=sqrt, max_depth=70, total=   0.1s\n",
      "[CV] min_samples_split=10, min_samples_leaf=1, max_features=auto, max_depth=80 \n",
      "[CV]  min_samples_split=10, min_samples_leaf=1, max_features=auto, max_depth=80, total=   0.6s\n",
      "[CV] min_samples_split=10, min_samples_leaf=1, max_features=auto, max_depth=80 \n",
      "[CV]  min_samples_split=10, min_samples_leaf=1, max_features=auto, max_depth=80, total=   0.5s\n",
      "[CV] min_samples_split=10, min_samples_leaf=1, max_features=auto, max_depth=80 \n",
      "[CV]  min_samples_split=10, min_samples_leaf=1, max_features=auto, max_depth=80, total=   0.5s\n",
      "[CV] min_samples_split=2, min_samples_leaf=2, max_features=auto, max_depth=50 \n",
      "[CV]  min_samples_split=2, min_samples_leaf=2, max_features=auto, max_depth=50, total=   0.6s\n",
      "[CV] min_samples_split=2, min_samples_leaf=2, max_features=auto, max_depth=50 \n",
      "[CV]  min_samples_split=2, min_samples_leaf=2, max_features=auto, max_depth=50, total=   0.6s\n",
      "[CV] min_samples_split=2, min_samples_leaf=2, max_features=auto, max_depth=50 \n",
      "[CV]  min_samples_split=2, min_samples_leaf=2, max_features=auto, max_depth=50, total=   0.6s\n",
      "[CV] min_samples_split=2, min_samples_leaf=1, max_features=sqrt, max_depth=80 \n",
      "[CV]  min_samples_split=2, min_samples_leaf=1, max_features=sqrt, max_depth=80, total=   0.1s\n",
      "[CV] min_samples_split=2, min_samples_leaf=1, max_features=sqrt, max_depth=80 \n",
      "[CV]  min_samples_split=2, min_samples_leaf=1, max_features=sqrt, max_depth=80, total=   0.1s\n",
      "[CV] min_samples_split=2, min_samples_leaf=1, max_features=sqrt, max_depth=80 \n",
      "[CV]  min_samples_split=2, min_samples_leaf=1, max_features=sqrt, max_depth=80, total=   0.1s\n",
      "[CV] min_samples_split=5, min_samples_leaf=1, max_features=sqrt, max_depth=70 \n",
      "[CV]  min_samples_split=5, min_samples_leaf=1, max_features=sqrt, max_depth=70, total=   0.1s\n",
      "[CV] min_samples_split=5, min_samples_leaf=1, max_features=sqrt, max_depth=70 \n",
      "[CV]  min_samples_split=5, min_samples_leaf=1, max_features=sqrt, max_depth=70, total=   0.1s\n",
      "[CV] min_samples_split=5, min_samples_leaf=1, max_features=sqrt, max_depth=70 \n",
      "[CV]  min_samples_split=5, min_samples_leaf=1, max_features=sqrt, max_depth=70, total=   0.1s\n",
      "[CV] min_samples_split=10, min_samples_leaf=4, max_features=auto, max_depth=60 \n",
      "[CV]  min_samples_split=10, min_samples_leaf=4, max_features=auto, max_depth=60, total=   0.5s\n",
      "[CV] min_samples_split=10, min_samples_leaf=4, max_features=auto, max_depth=60 \n",
      "[CV]  min_samples_split=10, min_samples_leaf=4, max_features=auto, max_depth=60, total=   0.5s\n",
      "[CV] min_samples_split=10, min_samples_leaf=4, max_features=auto, max_depth=60 \n",
      "[CV]  min_samples_split=10, min_samples_leaf=4, max_features=auto, max_depth=60, total=   0.5s\n",
      "[CV] min_samples_split=2, min_samples_leaf=4, max_features=auto, max_depth=60 \n",
      "[CV]  min_samples_split=2, min_samples_leaf=4, max_features=auto, max_depth=60, total=   0.5s\n",
      "[CV] min_samples_split=2, min_samples_leaf=4, max_features=auto, max_depth=60 \n",
      "[CV]  min_samples_split=2, min_samples_leaf=4, max_features=auto, max_depth=60, total=   0.5s\n",
      "[CV] min_samples_split=2, min_samples_leaf=4, max_features=auto, max_depth=60 \n",
      "[CV]  min_samples_split=2, min_samples_leaf=4, max_features=auto, max_depth=60, total=   0.5s\n",
      "[CV] min_samples_split=5, min_samples_leaf=2, max_features=auto, max_depth=110 \n",
      "[CV]  min_samples_split=5, min_samples_leaf=2, max_features=auto, max_depth=110, total=   0.6s\n",
      "[CV] min_samples_split=5, min_samples_leaf=2, max_features=auto, max_depth=110 \n",
      "[CV]  min_samples_split=5, min_samples_leaf=2, max_features=auto, max_depth=110, total=   0.6s\n",
      "[CV] min_samples_split=5, min_samples_leaf=2, max_features=auto, max_depth=110 \n",
      "[CV]  min_samples_split=5, min_samples_leaf=2, max_features=auto, max_depth=110, total=   0.5s\n",
      "[CV] min_samples_split=2, min_samples_leaf=1, max_features=sqrt, max_depth=70 \n",
      "[CV]  min_samples_split=2, min_samples_leaf=1, max_features=sqrt, max_depth=70, total=   0.1s\n",
      "[CV] min_samples_split=2, min_samples_leaf=1, max_features=sqrt, max_depth=70 \n",
      "[CV]  min_samples_split=2, min_samples_leaf=1, max_features=sqrt, max_depth=70, total=   0.1s\n",
      "[CV] min_samples_split=2, min_samples_leaf=1, max_features=sqrt, max_depth=70 \n",
      "[CV]  min_samples_split=2, min_samples_leaf=1, max_features=sqrt, max_depth=70, total=   0.1s\n",
      "[CV] min_samples_split=2, min_samples_leaf=2, max_features=auto, max_depth=60 \n",
      "[CV]  min_samples_split=2, min_samples_leaf=2, max_features=auto, max_depth=60, total=   0.6s\n",
      "[CV] min_samples_split=2, min_samples_leaf=2, max_features=auto, max_depth=60 \n",
      "[CV]  min_samples_split=2, min_samples_leaf=2, max_features=auto, max_depth=60, total=   0.5s\n",
      "[CV] min_samples_split=2, min_samples_leaf=2, max_features=auto, max_depth=60 \n",
      "[CV]  min_samples_split=2, min_samples_leaf=2, max_features=auto, max_depth=60, total=   0.5s\n",
      "[CV] min_samples_split=2, min_samples_leaf=2, max_features=sqrt, max_depth=50 \n",
      "[CV]  min_samples_split=2, min_samples_leaf=2, max_features=sqrt, max_depth=50, total=   0.1s\n",
      "[CV] min_samples_split=2, min_samples_leaf=2, max_features=sqrt, max_depth=50 \n",
      "[CV]  min_samples_split=2, min_samples_leaf=2, max_features=sqrt, max_depth=50, total=   0.1s\n",
      "[CV] min_samples_split=2, min_samples_leaf=2, max_features=sqrt, max_depth=50 \n",
      "[CV]  min_samples_split=2, min_samples_leaf=2, max_features=sqrt, max_depth=50, total=   0.1s\n",
      "[CV] min_samples_split=10, min_samples_leaf=2, max_features=auto, max_depth=60 \n",
      "[CV]  min_samples_split=10, min_samples_leaf=2, max_features=auto, max_depth=60, total=   0.6s\n",
      "[CV] min_samples_split=10, min_samples_leaf=2, max_features=auto, max_depth=60 \n",
      "[CV]  min_samples_split=10, min_samples_leaf=2, max_features=auto, max_depth=60, total=   0.5s\n",
      "[CV] min_samples_split=10, min_samples_leaf=2, max_features=auto, max_depth=60 \n",
      "[CV]  min_samples_split=10, min_samples_leaf=2, max_features=auto, max_depth=60, total=   0.5s\n",
      "[CV] min_samples_split=10, min_samples_leaf=1, max_features=sqrt, max_depth=80 \n",
      "[CV]  min_samples_split=10, min_samples_leaf=1, max_features=sqrt, max_depth=80, total=   0.1s\n",
      "[CV] min_samples_split=10, min_samples_leaf=1, max_features=sqrt, max_depth=80 \n",
      "[CV]  min_samples_split=10, min_samples_leaf=1, max_features=sqrt, max_depth=80, total=   0.1s\n",
      "[CV] min_samples_split=10, min_samples_leaf=1, max_features=sqrt, max_depth=80 \n",
      "[CV]  min_samples_split=10, min_samples_leaf=1, max_features=sqrt, max_depth=80, total=   0.1s\n",
      "[CV] min_samples_split=5, min_samples_leaf=2, max_features=sqrt, max_depth=None \n",
      "[CV]  min_samples_split=5, min_samples_leaf=2, max_features=sqrt, max_depth=None, total=   0.1s\n",
      "[CV] min_samples_split=5, min_samples_leaf=2, max_features=sqrt, max_depth=None \n",
      "[CV]  min_samples_split=5, min_samples_leaf=2, max_features=sqrt, max_depth=None, total=   0.1s\n",
      "[CV] min_samples_split=5, min_samples_leaf=2, max_features=sqrt, max_depth=None \n",
      "[CV]  min_samples_split=5, min_samples_leaf=2, max_features=sqrt, max_depth=None, total=   0.1s\n",
      "[CV] min_samples_split=10, min_samples_leaf=2, max_features=sqrt, max_depth=50 \n",
      "[CV]  min_samples_split=10, min_samples_leaf=2, max_features=sqrt, max_depth=50, total=   0.1s\n",
      "[CV] min_samples_split=10, min_samples_leaf=2, max_features=sqrt, max_depth=50 \n",
      "[CV]  min_samples_split=10, min_samples_leaf=2, max_features=sqrt, max_depth=50, total=   0.1s\n",
      "[CV] min_samples_split=10, min_samples_leaf=2, max_features=sqrt, max_depth=50 \n",
      "[CV]  min_samples_split=10, min_samples_leaf=2, max_features=sqrt, max_depth=50, total=   0.1s\n",
      "[CV] min_samples_split=5, min_samples_leaf=1, max_features=auto, max_depth=100 \n",
      "[CV]  min_samples_split=5, min_samples_leaf=1, max_features=auto, max_depth=100, total=   0.6s\n",
      "[CV] min_samples_split=5, min_samples_leaf=1, max_features=auto, max_depth=100 \n",
      "[CV]  min_samples_split=5, min_samples_leaf=1, max_features=auto, max_depth=100, total=   0.6s\n",
      "[CV] min_samples_split=5, min_samples_leaf=1, max_features=auto, max_depth=100 \n",
      "[CV]  min_samples_split=5, min_samples_leaf=1, max_features=auto, max_depth=100, total=   0.6s\n"
     ]
    },
    {
     "name": "stderr",
     "output_type": "stream",
     "text": [
      "[Parallel(n_jobs=-1)]: Done 150 out of 150 | elapsed:   45.2s finished\n"
     ]
    },
    {
     "data": {
      "text/plain": [
       "RandomizedSearchCV(cv=3, error_score='raise-deprecating',\n",
       "                   estimator=DecisionTreeRegressor(criterion='mse',\n",
       "                                                   max_depth=None,\n",
       "                                                   max_features=None,\n",
       "                                                   max_leaf_nodes=None,\n",
       "                                                   min_impurity_decrease=0.0,\n",
       "                                                   min_impurity_split=None,\n",
       "                                                   min_samples_leaf=1,\n",
       "                                                   min_samples_split=2,\n",
       "                                                   min_weight_fraction_leaf=0.0,\n",
       "                                                   presort=False,\n",
       "                                                   random_state=None,\n",
       "                                                   splitter='best'),\n",
       "                   iid='warn', n_iter=50, n_jobs=-1,\n",
       "                   param_distributions={'max_depth': [10, 20, 30, 40, 50, 60,\n",
       "                                                      70, 80, 90, 100, 110,\n",
       "                                                      None],\n",
       "                                        'max_features': ['auto', 'sqrt'],\n",
       "                                        'min_samples_leaf': [1, 2, 4],\n",
       "                                        'min_samples_split': [2, 5, 10]},\n",
       "                   pre_dispatch='2*n_jobs', random_state=42, refit=True,\n",
       "                   return_train_score=False,\n",
       "                   scoring=make_scorer(smape, greater_is_better=False),\n",
       "                   verbose=2)"
      ]
     },
     "execution_count": 26,
     "metadata": {},
     "output_type": "execute_result"
    }
   ],
   "source": [
    "dt = DecisionTreeRegressor()\n",
    "dt_random = RandomizedSearchCV(scoring=smape_score, \n",
    "                               estimator = dt, \n",
    "                               param_distributions = dt_grid, \n",
    "                               n_iter = 50, cv = 3, verbose=2, \n",
    "                               random_state=42, n_jobs = -1)\n",
    "dt_random.fit(X_train, y_train)"
   ]
  },
  {
   "cell_type": "code",
   "execution_count": 27,
   "metadata": {},
   "outputs": [
    {
     "data": {
      "text/plain": [
       "-10.49071942133451"
      ]
     },
     "execution_count": 27,
     "metadata": {},
     "output_type": "execute_result"
    }
   ],
   "source": [
    "dt_random.best_score_"
   ]
  },
  {
   "cell_type": "markdown",
   "metadata": {},
   "source": [
    "### RandomForestRegressor"
   ]
  },
  {
   "cell_type": "code",
   "execution_count": 28,
   "metadata": {},
   "outputs": [
    {
     "data": {
      "text/plain": [
       "'\\nrf = RandomForestRegressor()\\nrf_random = RandomizedSearchCV(scoring=smape_score, estimator = rf, param_distributions = rf_grid, n_iter = 30, cv = 3, verbose=2, random_state=42, n_jobs = -1)\\nrf_random.fit(X_train, y_train)\\nrf_random.best_score_\\n'"
      ]
     },
     "execution_count": 28,
     "metadata": {},
     "output_type": "execute_result"
    }
   ],
   "source": [
    "'''\n",
    "rf = RandomForestRegressor()\n",
    "rf_random = RandomizedSearchCV(scoring=smape_score, estimator = rf, param_distributions = rf_grid, n_iter = 30, cv = 3, verbose=2, random_state=42, n_jobs = -1)\n",
    "rf_random.fit(X_train, y_train)\n",
    "rf_random.best_score_\n",
    "'''"
   ]
  },
  {
   "cell_type": "markdown",
   "metadata": {},
   "source": [
    "В онлайн jupiter обучение проходило очень долго, добавил параметры с локальной модели"
   ]
  },
  {
   "cell_type": "code",
   "execution_count": 29,
   "metadata": {},
   "outputs": [
    {
     "data": {
      "text/plain": [
       "RandomForestRegressor(bootstrap=True, criterion='mse', max_depth=70,\n",
       "                      max_features='sqrt', max_leaf_nodes=None,\n",
       "                      min_impurity_decrease=0.0, min_impurity_split=None,\n",
       "                      min_samples_leaf=4, min_samples_split=5,\n",
       "                      min_weight_fraction_leaf=0.0, n_estimators=150,\n",
       "                      n_jobs=None, oob_score=False, random_state=42, verbose=0,\n",
       "                      warm_start=False)"
      ]
     },
     "execution_count": 29,
     "metadata": {},
     "output_type": "execute_result"
    }
   ],
   "source": [
    "model = RandomForestRegressor(n_estimators=150, \n",
    "                              min_samples_split=5, \n",
    "                              min_samples_leaf=4, \n",
    "                              max_features='sqrt',\n",
    "                              max_depth=70,\n",
    "                              bootstrap = True, \n",
    "                              random_state=42)\n",
    "model.fit(X_train, y_train)"
   ]
  },
  {
   "cell_type": "code",
   "execution_count": 30,
   "metadata": {},
   "outputs": [
    {
     "name": "stdout",
     "output_type": "stream",
     "text": [
      "Значение кроссвалидации  -8.585895571837387\n"
     ]
    }
   ],
   "source": [
    "print('Значение кроссвалидации ', pd.Series((cross_val_score(model, X_train, y_train, cv=3, scoring=smape_score))).mean())"
   ]
  },
  {
   "cell_type": "markdown",
   "metadata": {},
   "source": [
    "#### Вывод\n",
    "Лучший показатель у RandomForestRegressor"
   ]
  },
  {
   "cell_type": "markdown",
   "metadata": {},
   "source": [
    "# Общий вывод <a id=4>"
   ]
  },
  {
   "cell_type": "code",
   "execution_count": 31,
   "metadata": {},
   "outputs": [
    {
     "data": {
      "text/plain": [
       "8.252895093717049"
      ]
     },
     "execution_count": 31,
     "metadata": {},
     "output_type": "execute_result"
    }
   ],
   "source": [
    "smape(y_test, model.predict(X_test))"
   ]
  },
  {
   "cell_type": "markdown",
   "metadata": {},
   "source": [
    "Итоговое значение smape у лучшей модели составил 8.25."
   ]
  }
 ],
 "metadata": {
  "kernelspec": {
   "display_name": "Python 3",
   "language": "python",
   "name": "python3"
  },
  "language_info": {
   "codemirror_mode": {
    "name": "ipython",
    "version": 3
   },
   "file_extension": ".py",
   "mimetype": "text/x-python",
   "name": "python",
   "nbconvert_exporter": "python",
   "pygments_lexer": "ipython3",
   "version": "3.8.3"
  },
  "toc": {
   "base_numbering": 1,
   "nav_menu": {},
   "number_sections": true,
   "sideBar": true,
   "skip_h1_title": true,
   "title_cell": "Table of Contents",
   "title_sidebar": "Contents",
   "toc_cell": false,
   "toc_position": {},
   "toc_section_display": true,
   "toc_window_display": false
  }
 },
 "nbformat": 4,
 "nbformat_minor": 4
}
